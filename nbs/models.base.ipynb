{
 "cells": [
  {
   "cell_type": "markdown",
   "id": "76035564",
   "metadata": {},
   "source": [
    "<h1>Table of Contents<span class=\"tocSkip\"></span></h1>\n",
    "<div class=\"toc\"><ul class=\"toc-item\"></ul></div>"
   ]
  },
  {
   "cell_type": "markdown",
   "id": "0821e9a5",
   "metadata": {},
   "source": [
    "<h1>Table of Contents<span class=\"tocSkip\"></span></h1>\n",
    "<div class=\"toc\"><ul class=\"toc-item\"></ul></div>"
   ]
  },
  {
   "cell_type": "code",
   "execution_count": null,
   "id": "764ef14d",
   "metadata": {},
   "outputs": [],
   "source": [
    "# default_exp models.base"
   ]
  },
  {
   "cell_type": "code",
   "execution_count": null,
   "id": "5bcc6d03",
   "metadata": {},
   "outputs": [],
   "source": [
    "# export\n",
    "import torch\n",
    "from torch import nn\n",
    "\n",
    "\n",
    "class TTSModel(nn.Module):\n",
    "    def infer(self):\n",
    "        raise NotImplemented\n",
    "\n",
    "    def forward(self):\n",
    "        raise NotImplemented\n",
    "\n",
    "    def from_pretrained(\n",
    "        self, checkpoint_path=None, device=\"cpu\", ignore_layers=None, model_dict=None\n",
    "    ):\n",
    "\n",
    "        if checkpoint_path is None and model_dict is None:\n",
    "            raise Exception(\n",
    "                \"TTSModel.from_pretrained requires a checkpoint_path or state_dict\"\n",
    "            )\n",
    "        if checkpoint_path is not None:\n",
    "            checkpoint = torch.load(checkpoint_path, map_location=device)\n",
    "            model_dict = checkpoint[\"state_dict\"]\n",
    "        if ignore_layers:\n",
    "            model_dict = {k: v for k, v in model_dict.items() if k not in ignore_layers}\n",
    "        dummy_dict = self.state_dict()\n",
    "        dummy_dict.update(model_dict)\n",
    "        model_dict = dummy_dict\n",
    "        self.load_state_dict(model_dict)\n",
    "        if device == \"cuda\":\n",
    "            self.cuda()\n",
    "\n",
    "    def to_checkpoint(self):\n",
    "        return dict(model=self.state_dict())\n",
    "\n",
    "    @classmethod\n",
    "    def create(cls, name, opts, folders, all_speakers=True):\n",
    "        pass\n",
    "\n",
    "\n",
    "#         model_cls = cls.get_class(name)\n",
    "#         folders = pd.read_csv(folders)\n",
    "#         for folder in folders:\n",
    "\n",
    "\n",
    "#         return model_cls(opts)"
   ]
  },
  {
   "cell_type": "code",
   "execution_count": null,
   "id": "3d45eb57",
   "metadata": {},
   "outputs": [],
   "source": []
  }
 ],
 "metadata": {
  "kernelspec": {
   "display_name": "Python 3",
   "language": "python",
   "name": "python3"
  }
 },
 "nbformat": 4,
 "nbformat_minor": 5
}
