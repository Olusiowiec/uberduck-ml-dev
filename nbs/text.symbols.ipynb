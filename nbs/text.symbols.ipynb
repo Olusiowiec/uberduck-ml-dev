{
 "cells": [
  {
   "cell_type": "markdown",
   "id": "ab94df14",
   "metadata": {},
   "source": [
    "<h1>Table of Contents<span class=\"tocSkip\"></span></h1>\n",
    "<div class=\"toc\"><ul class=\"toc-item\"></ul></div>"
   ]
  },
  {
   "cell_type": "code",
   "execution_count": null,
   "id": "efb14c10",
   "metadata": {},
   "outputs": [],
   "source": [
    "#default_exp text.symbols"
   ]
  },
  {
   "cell_type": "code",
   "execution_count": null,
   "id": "89960a0b",
   "metadata": {},
   "outputs": [],
   "source": [
    "#export\n",
    "\n",
    "\"\"\" from https://github.com/keithito/tacotron \"\"\"\n",
    "\n",
    "\"\"\"\n",
    "Defines the set of symbols used in text input to the model.\n",
    "The default is a set of ASCII characters that works well for English or text that has been run through Unidecode. For other data, you can modify _characters. See TRAINING_DATA.md for details. \"\"\"\n",
    "\n",
    "from uberduck_ml_dev.text import cmudict\n",
    "\n",
    "_punctuation = \"!'\\\",.:;? \"\n",
    "_math = \"#%&*+-/[]()\"\n",
    "_special = \"_@©°½—₩€$\"\n",
    "_accented = \"áçéêëñöøćž\"\n",
    "_numbers = \"0123456789\"\n",
    "_letters = \"ABCDEFGHIJKLMNOPQRSTUVWXYZabcdefghijklmnopqrstuvwxyz\"\n",
    "\n",
    "# Prepend \"@\" to ARPAbet symbols to ensure uniqueness (some are the same as\n",
    "# uppercase letters):\n",
    "_arpabet = [\"@\" + s for s in cmudict.valid_symbols]\n",
    "\n",
    "# Export all symbols:\n",
    "symbols = (\n",
    "    list(_punctuation + _math + _special + _accented + _numbers + _letters) + _arpabet\n",
    ")"
   ]
  },
  {
   "cell_type": "code",
   "execution_count": null,
   "id": "ae74d0b6",
   "metadata": {},
   "outputs": [],
   "source": []
  }
 ],
 "metadata": {
  "kernelspec": {
   "display_name": "Python 3",
   "language": "python",
   "name": "python3"
  }
 },
 "nbformat": 4,
 "nbformat_minor": 5
}
