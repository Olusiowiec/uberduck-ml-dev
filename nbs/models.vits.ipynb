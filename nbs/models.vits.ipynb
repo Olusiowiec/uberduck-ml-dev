{
 "cells": [
  {
   "cell_type": "markdown",
   "id": "bfeecf29",
   "metadata": {},
   "source": [
    "<h1>Table of Contents<span class=\"tocSkip\"></span></h1>\n",
    "<div class=\"toc\"><ul class=\"toc-item\"></ul></div>"
   ]
  },
  {
   "cell_type": "raw",
   "id": "37ccb553",
   "metadata": {},
   "source": []
  },
  {
   "cell_type": "code",
   "execution_count": null,
   "id": "bb666f47",
   "metadata": {},
   "outputs": [],
   "source": [
    "# default_exp models.vits"
   ]
  },
  {
   "cell_type": "code",
   "execution_count": null,
   "id": "94a72e63",
   "metadata": {},
   "outputs": [],
   "source": [
    "# export\n",
    "from torch import nn\n",
    "\n",
    "from uberduck_ml_dev.models.base import TTSModel\n",
    "\n",
    "\n",
    "class VITSEncoder(nn.Module):\n",
    "    def __init__(\n",
    "        self,\n",
    "        n_vocab,\n",
    "        out_channels,\n",
    "        hidden_channels,\n",
    "        filter_channels,\n",
    "        n_heads,\n",
    "        n_layers,\n",
    "        kernel_size,\n",
    "        p_dropout,\n",
    "    ):\n",
    "        super().__init__()\n",
    "        self.n_vocab = n_vocab\n",
    "        self.out_channels = out_channels\n",
    "        self.hidden_channels = hidden_channels\n",
    "        self.filter_channels = filter_channels\n",
    "        self.n_heads = n_heads\n",
    "        self.n_layers = n_layers\n",
    "        self.kernel_size = kernel_size\n",
    "        self.p_dropout = p_dropout\n",
    "\n",
    "        self.embedding = nn.Embedding(n_vocab, hidden_channels)\n",
    "        nn.init.normal_(self.emb.weight, 0.0, hidden_channels ** -0.5)\n",
    "\n",
    "        self.encoder\n",
    "\n",
    "\n",
    "class VITSModel(TTSModel):\n",
    "    def __init__(\n",
    "        self,\n",
    "        n_vocab,\n",
    "        n_spectrogram_channels,\n",
    "        segment_size,\n",
    "        inter_channels,\n",
    "        hidden_channels,\n",
    "        filter_channels,\n",
    "        n_heads,\n",
    "        n_layers,\n",
    "        kernel_size,\n",
    "        p_dropout,\n",
    "        resblock,\n",
    "        resblock_kernel_sizes,\n",
    "        resblock_dilation_sizes,\n",
    "        upsample_rates,\n",
    "        upsample_initial_channel,\n",
    "        upsample_kernel_sizes,\n",
    "        n_speakers=0,\n",
    "        gin_channels=0,\n",
    "        use_sdp=True,\n",
    "    ):\n",
    "        super().__init__()\n",
    "\n",
    "        if n_speakers > 1:\n",
    "            self.emb_g = nn.Embedding(n_speakers, gin_channels)"
   ]
  },
  {
   "cell_type": "code",
   "execution_count": null,
   "id": "2dc4b397",
   "metadata": {},
   "outputs": [],
   "source": [
    "TTSModel??"
   ]
  },
  {
   "cell_type": "code",
   "execution_count": null,
   "id": "e4f09cfb",
   "metadata": {},
   "outputs": [],
   "source": []
  }
 ],
 "metadata": {
  "kernelspec": {
   "display_name": "Python 3",
   "language": "python",
   "name": "python3"
  }
 },
 "nbformat": 4,
 "nbformat_minor": 5
}
