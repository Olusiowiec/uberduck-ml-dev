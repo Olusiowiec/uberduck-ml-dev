{
 "cells": [
  {
   "cell_type": "markdown",
   "id": "72958652",
   "metadata": {},
   "source": [
    "<h1>Table of Contents<span class=\"tocSkip\"></span></h1>\n",
    "<div class=\"toc\"><ul class=\"toc-item\"><li><span><a href=\"#uberduck_ml_dev.exec.select_speakers\" data-toc-modified-id=\"uberduck_ml_dev.exec.select_speakers-1\"><span class=\"toc-item-num\">1&nbsp;&nbsp;</span>uberduck_ml_dev.exec.select_speakers</a></span></li></ul></div>"
   ]
  },
  {
   "cell_type": "code",
   "execution_count": null,
   "id": "16c70302",
   "metadata": {},
   "outputs": [],
   "source": [
    "# default_exp exec.select_speakers"
   ]
  },
  {
   "cell_type": "markdown",
   "id": "1ed1ab55",
   "metadata": {},
   "source": [
    "# uberduck_ml_dev.exec.select_speakers"
   ]
  },
  {
   "cell_type": "code",
   "execution_count": null,
   "id": "a15997f1",
   "metadata": {},
   "outputs": [],
   "source": [
    "# export\n",
    "import argparse\n",
    "from collections import namedtuple\n",
    "from dataclasses import dataclass\n",
    "import json\n",
    "import os\n",
    "from pathlib import Path\n",
    "from shutil import copyfile, copytree\n",
    "import sys\n",
    "from typing import List, Optional, Set\n",
    "\n",
    "from tqdm import tqdm\n",
    "\n",
    "from uberduck_ml_dev.utils.audio import convert_to_wav\n",
    "from uberduck_ml_dev.utils.utils import parse_vctk\n",
    "\n",
    "CACHE_LOCATION = Path.home() / Path(\".cache/uberduck/uberduck-ml-dev.db\")\n",
    "\n",
    "\n",
    "@dataclass\n",
    "class Filelist:\n",
    "    path: str\n",
    "    speakers: Optional[List[int]] = None\n",
    "\n",
    "\n",
    "def _get_speaker_ids(filelist: Filelist) -> Set[int]:\n",
    "    if filelist.speakers:\n",
    "        return set(filelist.speakers)\n",
    "    else:\n",
    "        raise Exception(\"pass a list of speakerss\")\n",
    "\n",
    "\n",
    "def select_speakers(filelists: List[Filelist], output_filelist: str):\n",
    "    speaker_id = 0\n",
    "    with open(output_filelist, \"w\") as f_out:\n",
    "        for filelist in tqdm(filelists):\n",
    "            speaker_ids = _get_speaker_ids(filelist)\n",
    "            with open(filelist.path, \"r\") as f_in:\n",
    "                for line in f_in.readlines():\n",
    "                    _, _, speaker_id = line.strip().split(\"|\")\n",
    "                    if int(speaker_id) in speaker_ids:\n",
    "                        f_out.write(line)\n",
    "\n",
    "\n",
    "def parse_args(args):\n",
    "    parser = argparse.ArgumentParser()\n",
    "    parser.add_argument(\"--config\", help=\"path to JSON config\")\n",
    "    return parser.parse_args(args)\n",
    "\n",
    "\n",
    "try:\n",
    "    from nbdev.imports import IN_NOTEBOOK\n",
    "except:\n",
    "    IN_NOTEBOOK = False\n",
    "\n",
    "if __name__ == \"__main__\" and not IN_NOTEBOOK:\n",
    "    args = parse_args(sys.argv[1:])\n",
    "    if args.config:\n",
    "        config = json.load(args.config)\n",
    "        filelists = config[\"filelists\"]\n",
    "        output_filelist = config[\"output\"]\n",
    "    else:\n",
    "        raise Exception(\"You must pass a config file!\")\n",
    "    select_speakers(filelists, output_filelist)"
   ]
  },
  {
   "cell_type": "code",
   "execution_count": null,
   "id": "f4e7a1fd",
   "metadata": {},
   "outputs": [],
   "source": [
    "args = parse_args([\"--config\", \"foo.json\"])\n",
    "assert args.config == \"foo.json\""
   ]
  },
  {
   "cell_type": "code",
   "execution_count": null,
   "id": "9b273ac9",
   "metadata": {},
   "outputs": [],
   "source": [
    "# sam stuff\n",
    "import sqlite3\n",
    "import os\n",
    "import pandas as pd\n",
    "\n",
    "\n",
    "def get_filelist(database, speakerjson):\n",
    "    \"\"\"\n",
    "    Take a list of speakers and create a filelist\n",
    "    \"\"\"\n",
    "\n",
    "\n",
    "def subset_speakers(database, seed, speakerlist=None, nspeakers=None):\n",
    "    \"\"\"\n",
    "    Takes a filelist and saves another filelist with either a random subset of speakers or speakers from the list\n",
    "    \"\"\""
   ]
  },
  {
   "cell_type": "code",
   "execution_count": null,
   "id": "740a3aa5",
   "metadata": {},
   "outputs": [],
   "source": [
    "vctk_filelist2, namelist = parse_vctk2(vctk_folder)\n",
    "print(namelist)"
   ]
  },
  {
   "cell_type": "code",
   "execution_count": null,
   "id": "0e5a7f96",
   "metadata": {},
   "outputs": [],
   "source": [
    "conn = sqlite3.connect(\"test.db\")\n",
    "\n",
    "conn.execute(\n",
    "    \"\"\"CREATE TABLE DATAINFO\n",
    "         (ID INT PRIMARY KEY     NOT NULL,\n",
    "         NAME           TEXT     NOT NULL,\n",
    "         SOURCE         TEXT     NOT NULL,\n",
    "         FILELIST       TEXT,\n",
    "         SPEAKERID      INT);\"\"\"\n",
    ")\n",
    "\n",
    "conn.execute(\n",
    "    \"INSERT INTO DATAINFO (ID,NAME,SOURCE,FILELIST,SPEAKERID) \\\n",
    "      VALUES (1, 'eminem', 'uberduck', '/mnt/disks/uberduck-experiments-v0/uberduck-ml-dev/experiments/processed_metadata/eminem_all_processed.txt', 0)\"\n",
    ")\n",
    "\n",
    "# id doesnt need to be included necessarily but makes sense\n",
    "cursor = conn.execute(\"SELECT ID, NAME, SOURCE, FILELIST from DATAINFO\")\n",
    "for row in cursor:\n",
    "    print(\"ID = \", row[0])\n",
    "    print(\"NAME = \", row[1])\n",
    "    print(\"ADDRESS = \", row[2])\n",
    "    print(\"SALARY = \", row[3])"
   ]
  },
  {
   "cell_type": "code",
   "execution_count": null,
   "id": "fa1b5146",
   "metadata": {},
   "outputs": [
    {
     "name": "stdout",
     "output_type": "stream",
     "text": [
      "[['vctk' 'p302']\n",
      " ['uberduck' 'eminem']]\n"
     ]
    }
   ],
   "source": [
    "# this is an example of a speakerlist that would be loaded from a json\n",
    "# a json could also be generated by querying the database e.g.\n",
    "# subset_speakers(database, seed, speakerlist = None, nspeakers = None)\n",
    "speakerlist = np.asarray([[\"vctk\", \"p302\"], [\"uberduck\", \"eminem\"]])\n",
    "print(speakerlist)"
   ]
  },
  {
   "cell_type": "code",
   "execution_count": null,
   "id": "0438cf94",
   "metadata": {},
   "outputs": [],
   "source": [
    "# now call get_filelist(database, speakerjson)\n",
    "# this list (filelist locations) would be got from database\n",
    "metalist_dir = \"/mnt/disks/uberduck-experiments-v0/uberduck-ml-dev/experiments/metadata_collections\"\n",
    "metalist_files = os.listdir(metalist_dir)\n",
    "# print(metalist_files)\n",
    "train_ratios = np.ones(4) * 1.0\n",
    "print(np.load(metalist_dir + \"/\" + metalist_files[0]))\n",
    "print(np.load(metalist_dir + \"/libritts_processed_file.npy\"))\n",
    "print(np.load(metalist_dir + \"/uberduck_processed_files.npy\", allow_pickle=True))\n",
    "print(\n",
    "    np.load(\n",
    "        \"/mnt/disks/uberduck-experiments-v0/uberduck-ml-dev/experiments/metadata_collections/vctk_processed_file.npy\"\n",
    "    )\n",
    ")"
   ]
  },
  {
   "cell_type": "code",
   "execution_count": null,
   "id": "50a3eab9",
   "metadata": {},
   "outputs": [
    {
     "name": "stdout",
     "output_type": "stream",
     "text": [
      "['/mnt/disks/uberduck-experiments-v0/uberduck-ml-dev/experiments/processed_metadata/lj7all_processed.txt'\n",
      " '/mnt/disks/uberduck-experiments-v0/uberduck-ml-dev/experiments/processed_metadata/librittsall_processed.txt'\n",
      " '/mnt/disks/uberduck-experiments-v0/uberduck-ml-dev/experiments/processed_metadata/eminem_all_processed.txt'\n",
      " '/mnt/disks/uberduck-experiments-v0/uberduck-ml-dev/experiments/processed_metadata/ben-shapiro_all_processed.txt'\n",
      " '/mnt/disks/uberduck-experiments-v0/uberduck-ml-dev/experiments/processed_metadata/jay-z_all_processed.txt'\n",
      " '/mnt/disks/uberduck-experiments-v0/uberduck-ml-dev/experiments/processed_metadata/vctkall_processed.txt']\n"
     ]
    },
    {
     "name": "stderr",
     "output_type": "stream",
     "text": [
      "/opt/conda/lib/python3.7/site-packages/numpy/lib/arraysetops.py:565: FutureWarning: elementwise comparison failed; returning scalar instead, but in the future will perform elementwise comparison\n",
      "  mask &= (ar1 != a)\n"
     ]
    }
   ],
   "source": [
    "# now synthesize selected speakers from filelists in database and synthesize selected (e.g. [2,4,5])\n",
    "# something like the following, but with the ability to take only rows of multispeaker datasets corresponding to particular speakers\n",
    "filelists = np.asarray([])\n",
    "# files = np.asarray([])\n",
    "for r in range(4):\n",
    "    files = np.load(metalist_dir + \"/\" + metalist_files[r], allow_pickle=True)\n",
    "    filelist = np.asarray([])\n",
    "\n",
    "    if files.ndim > 0:\n",
    "        nfiles = files.shape[0]\n",
    "        for s in range(nfiles):\n",
    "            filelist = np.append(filelist, files[s])\n",
    "    else:\n",
    "        filelist = files\n",
    "    filelists = np.append(filelists, filelist)\n",
    "\n",
    "print(filelists)\n",
    "dd = synthesize_speakerids2(filelists, 1)\n",
    "ad = list(dd.values())\n",
    "ad2 = [ad[i] for i in [2, 4, 5]]\n",
    "alldata = pd.concat(ad2)"
   ]
  },
  {
   "cell_type": "code",
   "execution_count": null,
   "id": "dba740bd",
   "metadata": {},
   "outputs": [
    {
     "name": "stdout",
     "output_type": "stream",
     "text": [
      "                                                       0  \\\n",
      "0      /mnt/disks/uberduck-experiments-v0/data/uberdu...   \n",
      "1      /mnt/disks/uberduck-experiments-v0/data/uberdu...   \n",
      "2      /mnt/disks/uberduck-experiments-v0/data/uberdu...   \n",
      "3      /mnt/disks/uberduck-experiments-v0/data/uberdu...   \n",
      "4      /mnt/disks/uberduck-experiments-v0/data/uberdu...   \n",
      "...                                                  ...   \n",
      "43880  /mnt/disks/uberduck-experiments-v0/data/vctk/w...   \n",
      "43881  /mnt/disks/uberduck-experiments-v0/data/vctk/w...   \n",
      "43882  /mnt/disks/uberduck-experiments-v0/data/vctk/w...   \n",
      "43883  /mnt/disks/uberduck-experiments-v0/data/vctk/w...   \n",
      "43884  /mnt/disks/uberduck-experiments-v0/data/vctk/w...   \n",
      "\n",
      "                                                       1    2  \n",
      "0            It's like this and like that and like this.    0  \n",
      "1      I'm the illest rapper to hold the cordless, pa...    0  \n",
      "2      I'm meaner in action than Roscoe beatin' James...    0  \n",
      "3      I grew up in a wild hood, as a hazardous youth...    0  \n",
      "4      And ain't shit changed, I kept the same mind s...    0  \n",
      "...                                                  ...  ...  \n",
      "43880                      I can't stop people thinking.  107  \n",
      "43881                         That will be best for him.  107  \n",
      "43882                         That can happen so easily.  107  \n",
      "43883                I have not been so angry for years.  107  \n",
      "43884                                 Do you mean today?  107  \n",
      "\n",
      "[44782 rows x 3 columns]\n"
     ]
    }
   ],
   "source": [
    "print(alldata)"
   ]
  }
 ],
 "metadata": {
  "kernelspec": {
   "display_name": "Python 3",
   "language": "python",
   "name": "python3"
  }
 },
 "nbformat": 4,
 "nbformat_minor": 5
}
