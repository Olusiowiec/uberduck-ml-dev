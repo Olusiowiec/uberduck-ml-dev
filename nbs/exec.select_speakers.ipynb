{
 "cells": [
  {
   "cell_type": "markdown",
   "id": "5fe82377",
   "metadata": {},
   "source": [
    "<h1>Table of Contents<span class=\"tocSkip\"></span></h1>\n",
    "<div class=\"toc\"><ul class=\"toc-item\"><li><span><a href=\"#uberduck_ml_dev.exec.select_speakers\" data-toc-modified-id=\"uberduck_ml_dev.exec.select_speakers-1\"><span class=\"toc-item-num\">1&nbsp;&nbsp;</span>uberduck_ml_dev.exec.select_speakers</a></span></li></ul></div>"
   ]
  },
  {
   "cell_type": "markdown",
   "id": "72958652",
   "metadata": {},
   "source": [
    "<h1>Table of Contents<span class=\"tocSkip\"></span></h1>\n",
    "<div class=\"toc\"><ul class=\"toc-item\"><li><span><a href=\"#uberduck_ml_dev.exec.select_speakers\" data-toc-modified-id=\"uberduck_ml_dev.exec.select_speakers-1\"><span class=\"toc-item-num\">1&nbsp;&nbsp;</span>uberduck_ml_dev.exec.select_speakers</a></span></li></ul></div>"
   ]
  },
  {
   "cell_type": "code",
   "execution_count": null,
   "id": "16c70302",
   "metadata": {},
   "outputs": [],
   "source": [
    "# default_exp exec.select_speakers"
   ]
  },
  {
   "cell_type": "markdown",
   "id": "1ed1ab55",
   "metadata": {},
   "source": [
    "# uberduck_ml_dev.exec.select_speakers"
   ]
  },
  {
   "cell_type": "code",
   "execution_count": null,
   "id": "a15997f1",
   "metadata": {},
   "outputs": [],
   "source": [
    "# export\n",
    "import argparse\n",
    "from collections import namedtuple\n",
    "from dataclasses import dataclass\n",
    "import json\n",
    "import os\n",
    "from pathlib import Path\n",
    "from shutil import copyfile, copytree\n",
    "import sys\n",
    "from typing import List, Optional, Set\n",
    "\n",
    "import sqlite3\n",
    "from tqdm import tqdm\n",
    "\n",
    "from uberduck_ml_dev.data.cache import ensure_filelist_in_cache, ensure_speaker_table\n",
    "from uberduck_ml_dev.utils.audio import convert_to_wav\n",
    "from uberduck_ml_dev.utils.utils import parse_vctk\n",
    "\n",
    "CACHE_LOCATION = Path.home() / Path(\".cache/uberduck/uberduck-ml-dev.db\")\n",
    "\n",
    "\n",
    "@dataclass\n",
    "class Filelist:\n",
    "    path: str\n",
    "    sql: Optional[str] = None\n",
    "    speaker_ids: Optional[List[int]] = None\n",
    "    speakers: Optional[List[str]] = None\n",
    "\n",
    "\n",
    "def _get_speaker_ids(filelist: Filelist) -> Set[int]:\n",
    "    if filelist.speaker_ids:\n",
    "        return set(filelist.speaker_ids)\n",
    "\n",
    "    ensure_speaker_table()\n",
    "    ensure_filelist_in_cache()\n",
    "    if filelist.speakers:\n",
    "        # conn =\n",
    "        conn = sqlite3.connect(str(CACHE_LOCATION))\n",
    "        cursor = conn.cursor()\n",
    "        params = \",\".join(\"?\" for _ in filelist.speakers)\n",
    "        results = cursor.execute(\n",
    "            f\"SELECT speaker_id FROM speakers where filepath = ? AND name in ({params})\",\n",
    "            [os.path.expanduser(filelist.path), *filelist.speakers],\n",
    "        ).fetchall()\n",
    "        speaker_ids = set([speaker_id for (speaker_id, *_) in results])\n",
    "        return speaker_ids\n",
    "    elif filelist.sql:\n",
    "        if not CACHE_LOCATION.exists():\n",
    "            msg = \"Filelist cache does not exist! You must generate it.\"\n",
    "            print(msg)\n",
    "            raise Exception(msg)\n",
    "        conn = sqlite3.connect(str(CACHE_LOCATION))\n",
    "        cursor = conn.cursor()\n",
    "        results = cursor.execute(filelist.sql).fetchall()\n",
    "\n",
    "        speaker_ids = set([speaker_id for (speaker_id, *_) in results])\n",
    "        return speaker_ids\n",
    "\n",
    "\n",
    "def select_speakers(filelists: List[Filelist], output_filelist: str):\n",
    "    new_speaker_id = 0\n",
    "    seen_speaker_ids = set()\n",
    "    with open(output_filelist, \"w\") as f_out:\n",
    "        for filelist in tqdm(filelists):\n",
    "            speaker_ids = _get_speaker_ids(filelist)\n",
    "            if filelist.path:\n",
    "                filelist.path = os.path.expanduser(filelist.path)\n",
    "            with open(filelist.path, \"r\") as f_in:\n",
    "                for line in f_in.readlines():\n",
    "                    path, txn, original_speaker_id = line.strip().split(\"|\")\n",
    "                    if (\n",
    "                        speaker_ids is not None\n",
    "                        and int(original_speaker_id) not in speaker_ids\n",
    "                    ):\n",
    "                        continue\n",
    "                    if (filelist.path, original_speaker_id) not in seen_speaker_ids:\n",
    "                        seen_speaker_ids[\n",
    "                            (filelist.path, original_speaker_id)\n",
    "                        ] = new_speaker_id\n",
    "                        new_speaker_id += 1\n",
    "                        current_speaker_id = new_speaker_id\n",
    "                    else:\n",
    "                        current_speaker_id = seen_speaker_ids[\n",
    "                            (filelist.path, original_speaker_id)\n",
    "                        ]\n",
    "                    f_out.write(f\"{path}|{txn}|{current_speaker_id}\\n\")\n",
    "\n",
    "\n",
    "def parse_args(args):\n",
    "    parser = argparse.ArgumentParser()\n",
    "    parser.add_argument(\"--config\", help=\"path to JSON config\")\n",
    "    return parser.parse_args(args)\n",
    "\n",
    "\n",
    "try:\n",
    "    from nbdev.imports import IN_NOTEBOOK\n",
    "except:\n",
    "    IN_NOTEBOOK = False\n",
    "\n",
    "if __name__ == \"__main__\" and not IN_NOTEBOOK:\n",
    "    args = parse_args(sys.argv[1:])\n",
    "    if args.config:\n",
    "        with open(args.config) as f:\n",
    "            config = json.load(f)\n",
    "        filelists = [Filelist(**f) for f in config[\"filelists\"]]\n",
    "        output_filelist = config[\"output\"]\n",
    "    else:\n",
    "        raise Exception(\"You must pass a config file!\")\n",
    "    select_speakers(filelists, output_filelist)"
   ]
  },
  {
   "cell_type": "code",
   "execution_count": null,
   "id": "85ed0351",
   "metadata": {},
   "outputs": [
    {
     "name": "stdout",
     "output_type": "stream",
     "text": [
      "?\n",
      "/Users/zwf/data/voice/dvc-managed/uberduck-multispeaker/list.txt\n",
      "['Carl_Wheezer']\n"
     ]
    },
    {
     "data": {
      "text/plain": [
       "set()"
      ]
     },
     "execution_count": null,
     "metadata": {},
     "output_type": "execute_result"
    }
   ],
   "source": [
    "_get_speaker_ids(\n",
    "    Filelist(\n",
    "        \"/Users/zwf/data/voice/dvc-managed/uberduck-multispeaker/list.txt\",\n",
    "        speakers=[\"Carl_Wheezer\"],\n",
    "    )\n",
    ")"
   ]
  },
  {
   "cell_type": "code",
   "execution_count": null,
   "id": "f4e7a1fd",
   "metadata": {},
   "outputs": [],
   "source": [
    "args = parse_args([\"--config\", \"foo.json\"])\n",
    "assert args.config == \"foo.json\""
   ]
  },
  {
   "cell_type": "code",
   "execution_count": null,
   "id": "9b273ac9",
   "metadata": {},
   "outputs": [],
   "source": [
    "# sam stuff\n",
    "import sqlite3\n",
    "import os\n",
    "import pandas as pd\n",
    "\n",
    "\n",
    "def get_filelist(database, speakerjson):\n",
    "    \"\"\"\n",
    "    Take a list of speakers and create a filelist\n",
    "    \"\"\"\n",
    "\n",
    "\n",
    "def subset_speakers(database, seed, speakerlist=None, nspeakers=None):\n",
    "    \"\"\"\n",
    "    Takes a filelist and saves another filelist with either a random subset of speakers or speakers from the list\n",
    "    \"\"\""
   ]
  },
  {
   "cell_type": "code",
   "execution_count": null,
   "id": "740a3aa5",
   "metadata": {},
   "outputs": [
    {
     "ename": "NameError",
     "evalue": "name 'parse_vctk2' is not defined",
     "output_type": "error",
     "traceback": [
      "\u001b[0;31m---------------------------------------------------------------------------\u001b[0m",
      "\u001b[0;31mNameError\u001b[0m                                 Traceback (most recent call last)",
      "\u001b[0;32m<ipython-input-5-01c31da62e73>\u001b[0m in \u001b[0;36m<module>\u001b[0;34m\u001b[0m\n\u001b[0;32m----> 1\u001b[0;31m \u001b[0mvctk_filelist2\u001b[0m\u001b[0;34m,\u001b[0m \u001b[0mnamelist\u001b[0m \u001b[0;34m=\u001b[0m \u001b[0mparse_vctk2\u001b[0m\u001b[0;34m(\u001b[0m\u001b[0mvctk_folder\u001b[0m\u001b[0;34m)\u001b[0m\u001b[0;34m\u001b[0m\u001b[0;34m\u001b[0m\u001b[0m\n\u001b[0m\u001b[1;32m      2\u001b[0m \u001b[0mprint\u001b[0m\u001b[0;34m(\u001b[0m\u001b[0mnamelist\u001b[0m\u001b[0;34m)\u001b[0m\u001b[0;34m\u001b[0m\u001b[0;34m\u001b[0m\u001b[0m\n",
      "\u001b[0;31mNameError\u001b[0m: name 'parse_vctk2' is not defined"
     ]
    }
   ],
   "source": [
    "vctk_filelist2, namelist = parse_vctk2(vctk_folder)\n",
    "print(namelist)"
   ]
  },
  {
   "cell_type": "code",
   "execution_count": null,
   "id": "0e5a7f96",
   "metadata": {},
   "outputs": [],
   "source": [
    "conn = sqlite3.connect(\"test.db\")\n",
    "\n",
    "conn.execute(\n",
    "    \"\"\"CREATE TABLE DATAINFO\n",
    "         (ID INT PRIMARY KEY     NOT NULL,\n",
    "         NAME           TEXT     NOT NULL,\n",
    "         SOURCE         TEXT     NOT NULL,\n",
    "         FILELIST       TEXT,\n",
    "         SPEAKERID      INT);\"\"\"\n",
    ")\n",
    "\n",
    "conn.execute(\n",
    "    \"INSERT INTO DATAINFO (ID,NAME,SOURCE,FILELIST,SPEAKERID) \\\n",
    "      VALUES (1, 'eminem', 'uberduck', '/mnt/disks/uberduck-experiments-v0/uberduck-ml-dev/experiments/processed_metadata/eminem_all_processed.txt', 0)\"\n",
    ")\n",
    "\n",
    "# id doesnt need to be included necessarily but makes sense\n",
    "cursor = conn.execute(\"SELECT ID, NAME, SOURCE, FILELIST from DATAINFO\")\n",
    "for row in cursor:\n",
    "    print(\"ID = \", row[0])\n",
    "    print(\"NAME = \", row[1])\n",
    "    print(\"ADDRESS = \", row[2])\n",
    "    print(\"SALARY = \", row[3])"
   ]
  },
  {
   "cell_type": "code",
   "execution_count": null,
   "id": "fa1b5146",
   "metadata": {},
   "outputs": [],
   "source": [
    "# this is an example of a speakerlist that would be loaded from a json\n",
    "# a json could also be generated by querying the database e.g.\n",
    "# subset_speakers(database, seed, speakerlist = None, nspeakers = None)\n",
    "speakerlist = np.asarray([[\"vctk\", \"p302\"], [\"uberduck\", \"eminem\"]])\n",
    "print(speakerlist)"
   ]
  },
  {
   "cell_type": "code",
   "execution_count": null,
   "id": "0438cf94",
   "metadata": {},
   "outputs": [],
   "source": [
    "# now call get_filelist(database, speakerjson)\n",
    "# this list (filelist locations) would be got from database\n",
    "metalist_dir = \"/mnt/disks/uberduck-experiments-v0/uberduck-ml-dev/experiments/metadata_collections\"\n",
    "metalist_files = os.listdir(metalist_dir)\n",
    "# print(metalist_files)\n",
    "train_ratios = np.ones(4) * 1.0\n",
    "print(np.load(metalist_dir + \"/\" + metalist_files[0]))\n",
    "print(np.load(metalist_dir + \"/libritts_processed_file.npy\"))\n",
    "print(np.load(metalist_dir + \"/uberduck_processed_files.npy\", allow_pickle=True))\n",
    "print(\n",
    "    np.load(\n",
    "        \"/mnt/disks/uberduck-experiments-v0/uberduck-ml-dev/experiments/metadata_collections/vctk_processed_file.npy\"\n",
    "    )\n",
    ")"
   ]
  },
  {
   "cell_type": "code",
   "execution_count": null,
   "id": "50a3eab9",
   "metadata": {},
   "outputs": [],
   "source": [
    "# now synthesize selected speakers from filelists in database and synthesize selected (e.g. [2,4,5])\n",
    "# something like the following, but with the ability to take only rows of multispeaker datasets corresponding to particular speakers\n",
    "filelists = np.asarray([])\n",
    "# files = np.asarray([])\n",
    "for r in range(4):\n",
    "    files = np.load(metalist_dir + \"/\" + metalist_files[r], allow_pickle=True)\n",
    "    filelist = np.asarray([])\n",
    "\n",
    "    if files.ndim > 0:\n",
    "        nfiles = files.shape[0]\n",
    "        for s in range(nfiles):\n",
    "            filelist = np.append(filelist, files[s])\n",
    "    else:\n",
    "        filelist = files\n",
    "    filelists = np.append(filelists, filelist)\n",
    "\n",
    "print(filelists)\n",
    "dd = synthesize_speakerids2(filelists, 1)\n",
    "ad = list(dd.values())\n",
    "ad2 = [ad[i] for i in [2, 4, 5]]\n",
    "alldata = pd.concat(ad2)"
   ]
  },
  {
   "cell_type": "code",
   "execution_count": null,
   "id": "dba740bd",
   "metadata": {},
   "outputs": [],
   "source": [
    "print(alldata)"
   ]
  }
 ],
 "metadata": {
  "kernelspec": {
   "display_name": "Python 3",
   "language": "python",
   "name": "python3"
  }
 },
 "nbformat": 4,
 "nbformat_minor": 5
}
