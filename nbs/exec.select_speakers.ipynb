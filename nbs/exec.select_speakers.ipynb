{
 "cells": [
  {
   "cell_type": "markdown",
   "id": "49fada16",
   "metadata": {},
   "source": [
    "<h1>Table of Contents<span class=\"tocSkip\"></span></h1>\n",
    "<div class=\"toc\"><ul class=\"toc-item\"><li><span><a href=\"#New-heading\" data-toc-modified-id=\"New-heading-1\"><span class=\"toc-item-num\">1&nbsp;&nbsp;</span>New heading</a></span></li></ul></div>"
   ]
  },
  {
   "cell_type": "code",
   "execution_count": null,
   "id": "16c70302",
   "metadata": {},
   "outputs": [],
   "source": [
    "#default_exp exec.select_speakers"
   ]
  },
  {
   "cell_type": "code",
   "execution_count": null,
   "id": "ab03fbe7",
   "metadata": {},
   "outputs": [],
   "source": [
    "from dataclasses import dataclass\n",
    "from collections import namedtuple\n",
    "@dataclass\n",
    "class Foo:\n",
    "    foo: str = None\n",
    "    bar: str = None\n",
    "    baz: str = None\n",
    "# Foo = namedtuple(\"Foo\", [\"bar\", \"baz\", \"blah\"], defaults=(None,) * 3)\n",
    "f = Foo(\"hi\")\n",
    "assert f.foo == \"hi\"\n",
    "assert f.bar is None\n",
    "assert f.baz is None\n"
   ]
  },
  {
   "cell_type": "markdown",
   "id": "1ed1ab55",
   "metadata": {},
   "source": [
    "# New heading"
   ]
  },
  {
   "cell_type": "code",
   "execution_count": null,
   "id": "a15997f1",
   "metadata": {},
   "outputs": [],
   "source": [
    "# export\n",
    "import argparse\n",
    "from collections import namedtuple\n",
    "from dataclasses import dataclass\n",
    "import json\n",
    "import os\n",
    "from pathlib import Path\n",
    "from shutil import copyfile, copytree\n",
    "import sys\n",
    "from typing import List\n",
    "\n",
    "STANDARD_MULTISPEAKER = \"standard-multispeaker\"\n",
    "STANDARD_SINGLESPEAKER = \"standard-singlespeaker\"\n",
    "VCTK = \"vctk\"\n",
    "FORMATS = [\n",
    "    STANDARD_MULTISPEAKER,\n",
    "    STANDARD_SINGLESPEAKER,\n",
    "    VCTK,\n",
    "]\n",
    "\n",
    "\n",
    "@dataclass\n",
    "class Dataset:\n",
    "    path: str\n",
    "    format: str = STANDARD_MULTISPEAKER\n",
    "    speakers: str = None\n",
    "\n",
    "\n",
    "def _convert_to_multispeaker(f, out_path: str, ds: Dataset, start_speaker_id: int):\n",
    "    assert (\n",
    "        ds.format == STANDARD_MULTISPEAKER\n",
    "    ), f\"Only {STANDARD_MULTISPEAKER} is supported\"\n",
    "    root = ds.path\n",
    "    \n",
    "    speaker_id = start_speaker_id\n",
    "    print(ds.format)\n",
    "    print(ds.path)\n",
    "    print(ds.speakers)\n",
    "    if ds.speakers:\n",
    "        speakers = ds.speakers.split(\",\")\n",
    "    else:\n",
    "        speakers = os.listdir(root)\n",
    "    for speaker in speakers:\n",
    "        path = Path(root) / Path(speaker)\n",
    "        files = os.listdir(path)\n",
    "        transcriptions, *_ = [f for f in files if f.endswith(\".txt\")]\n",
    "        with (Path(root) / speaker / transcriptions).open(\"r\") as txn_f:\n",
    "            transcriptions = txn_f.readlines()\n",
    "        for line in transcriptions:\n",
    "            line = line.strip(\"\\n\")\n",
    "            try:\n",
    "                line_path, line_txn = line.split(\"|\")\n",
    "            except Exception as e:\n",
    "                print(e)\n",
    "                print(line)\n",
    "                raise\n",
    "            line = f\"{str(Path(speaker) / Path(line_path))}|{line_txn}\"\n",
    "            f.write(f\"{line}|{speaker_id}\\n\")\n",
    "        wavs_dvc = path / \"wavs.dvc\"\n",
    "        speaker_out_path = Path(out_path) / speaker\n",
    "        if not speaker_out_path.exists():\n",
    "            os.makedirs(speaker_out_path)\n",
    "        if wavs_dvc.exists():\n",
    "            copyfile(wavs_dvc, speaker_out_path / \"wavs.dvc\")\n",
    "        wavs_dir = path / \"wavs\"\n",
    "        if wavs_dir.exists():\n",
    "            copytree(wavs_dir, speaker_out_path / \"wavs\")\n",
    "        speaker_id += 1\n",
    "    return speaker_id - start_speaker_id\n",
    "\n",
    "\n",
    "def select_speakers(datasets: List[Dataset], out_dir):\n",
    "    speaker_id = 0\n",
    "    out_path = Path(out_dir)\n",
    "    if not out_path.exists():\n",
    "        os.makedirs(out_path)\n",
    "    with (out_path / \"list.txt\").open(\"w\") as f:\n",
    "        for ds in datasets:\n",
    "            speaker_count = _convert_to_multispeaker(f, out_path, ds, speaker_id)\n",
    "            speaker_id += speaker_count\n",
    "\n",
    "\n",
    "def parse_args(args):\n",
    "    parser = argparse.ArgumentParser()\n",
    "    parser.add_argument(\"-o\", \"--out\", help=\"Path to dataset out directory\", default=\"./dataset\")\n",
    "    parser.add_argument(\"--config\", help=\"path to JSON config\")\n",
    "    parser.add_argument(\"-d\", \"--dataset\", action=\"append\", nargs=\"*\")\n",
    "    return parser.parse_args(args)\n",
    "\n",
    "\n",
    "try:\n",
    "    from nbdev.imports import IN_NOTEBOOK\n",
    "except:\n",
    "    IN_NOTEBOOK = False\n",
    "\n",
    "if __name__ == \"__main__\" and not IN_NOTEBOOK:\n",
    "    args = parse_args(sys.argv[1:])\n",
    "    if args.config:\n",
    "        config = json.load(args.config)\n",
    "        dataset = config[\"dataset\"]\n",
    "    elif args.dataset:\n",
    "        dataset = args.dataset\n",
    "    else:\n",
    "        raise Exception(\"Dataset must be specified\")\n",
    "    dataset_collection = [Dataset(*d) for d in dataset]\n",
    "    select_speakers(dataset_collection, args.out)"
   ]
  },
  {
   "cell_type": "code",
   "execution_count": null,
   "id": "f4e7a1fd",
   "metadata": {},
   "outputs": [
    {
     "data": {
      "text/plain": [
       "[Dataset(path='test/one/two', speakers='three,four,five', format='standard-multispeaker'),\n",
       " Dataset(path='foo/bar/baz', speakers=None, format='standard-multispeaker')]"
      ]
     },
     "execution_count": null,
     "metadata": {},
     "output_type": "execute_result"
    }
   ],
   "source": [
    "args = parse_args([\"-d\", \"test/one/two\", \"three,four,five\", \"-d\", \"foo/bar/baz\"])\n",
    "assert len(args.dataset) == 2\n",
    "assert args.dataset == [[\"test/one/two\", \"three,four,five\"], [\"foo/bar/baz\"]]\n",
    "args = parse_args([\"-d\", \"foo\"])\n",
    "assert len(args.dataset) == 1\n",
    "assert args.dataset == [[\"foo\"]]\n",
    "[Dataset(*d) for d in [[\"test/one/two\", \"three,four,five\"], [\"foo/bar/baz\"]]]"
   ]
  },
  {
   "cell_type": "code",
   "execution_count": null,
   "id": "345e4b84",
   "metadata": {},
   "outputs": [],
   "source": [
    "args = parse_args([\"--dataset\", \"~/data/voice/dvc-managed\", \"standard-multispeaker\", \"brock-sampson\"])"
   ]
  },
  {
   "cell_type": "code",
   "execution_count": null,
   "id": "66b67389",
   "metadata": {},
   "outputs": [
    {
     "data": {
      "text/plain": [
       "Namespace(config=None, dataset=[['~/data/voice/dvc-managed', 'standard-multispeaker', 'brock-sampson']], out='./dataset')"
      ]
     },
     "execution_count": null,
     "metadata": {},
     "output_type": "execute_result"
    }
   ],
   "source": [
    "args"
   ]
  },
  {
   "cell_type": "code",
   "execution_count": null,
   "id": "9981e5a9",
   "metadata": {},
   "outputs": [
    {
     "data": {
      "text/plain": [
       "[Dataset(path='~/data/voice/dvc-managed', format='standard-multispeaker', speakers='brock-sampson')]"
      ]
     },
     "execution_count": null,
     "metadata": {},
     "output_type": "execute_result"
    }
   ],
   "source": [
    "[Dataset(*d) for d in args.dataset]"
   ]
  },
  {
   "cell_type": "code",
   "execution_count": null,
   "id": "1a02fde7",
   "metadata": {},
   "outputs": [],
   "source": [
    "?copyfile"
   ]
  },
  {
   "cell_type": "code",
   "execution_count": null,
   "id": "51a77bc2",
   "metadata": {},
   "outputs": [],
   "source": []
  }
 ],
 "metadata": {
  "kernelspec": {
   "display_name": "Python 3",
   "language": "python",
   "name": "python3"
  }
 },
 "nbformat": 4,
 "nbformat_minor": 5
}
