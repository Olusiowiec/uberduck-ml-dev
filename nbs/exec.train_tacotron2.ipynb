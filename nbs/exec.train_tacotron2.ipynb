{
 "cells": [
  {
   "cell_type": "code",
   "execution_count": null,
   "id": "d096a2c3",
   "metadata": {},
   "outputs": [],
   "source": [
    "# default_exp exec.train_tacotron2"
   ]
  },
  {
   "cell_type": "code",
   "execution_count": null,
   "id": "c96fa8f3",
   "metadata": {},
   "outputs": [],
   "source": [
    "# export\n",
    "from uberduck_ml_dev.trainer.tacotron2 import Tacotron2Trainer\n",
    "from uberduck_ml_dev.vendor.tfcompat.hparam import HParams\n",
    "from uberduck_ml_dev.models.tacotron2 import DEFAULTS as TACOTRON2_DEFAULTS\n",
    "from uberduck_ml_dev.exec.utils import parse_args\n",
    "import sys\n",
    "import json"
   ]
  },
  {
   "cell_type": "code",
   "execution_count": null,
   "id": "de7bf154",
   "metadata": {},
   "outputs": [],
   "source": [
    "# export\n",
    "def run(rank, device_count, hparams):\n",
    "    trainer = Tacotron2Trainer(hparams, rank=rank, world_size=device_count)\n",
    "    try:\n",
    "        trainer.train()\n",
    "    except Exception as e:\n",
    "        print(f\"Exception raised while training: {e}\")\n",
    "        # TODO: save state.\n",
    "        raise e"
   ]
  },
  {
   "cell_type": "code",
   "execution_count": null,
   "id": "227b9e39",
   "metadata": {},
   "outputs": [],
   "source": [
    "# export\n",
    "try:\n",
    "    from nbdev.imports import IN_NOTEBOOK\n",
    "except:\n",
    "    IN_NOTEBOOK = False\n",
    "if __name__ == \"__main__\" and not IN_NOTEBOOK:\n",
    "    args = parse_args(sys.argv[1:])\n",
    "    config = TACOTRON2_DEFAULTS.values()\n",
    "    if args.config:\n",
    "        with open(args.config) as f:\n",
    "            config.update(json.load(f))\n",
    "    hparams = HParams(**config)\n",
    "    if hparams.distributed_run:\n",
    "        device_count = torch.cuda.device_count()\n",
    "        mp.spawn(run, (device_count, hparams), device_count)\n",
    "    else:\n",
    "        run(None, None, hparams)"
   ]
  },
  {
   "cell_type": "code",
   "execution_count": null,
   "id": "321eb961",
   "metadata": {},
   "outputs": [
    {
     "data": {
      "text/plain": [
       "1"
      ]
     },
     "execution_count": null,
     "metadata": {},
     "output_type": "execute_result"
    }
   ],
   "source": [
    "import torch\n",
    "\n",
    "torch.cuda.device_count()"
   ]
  },
  {
   "cell_type": "code",
   "execution_count": null,
   "id": "bbac9acd",
   "metadata": {},
   "outputs": [],
   "source": []
  }
 ],
 "metadata": {
  "kernelspec": {
   "display_name": "Python [conda env:root] *",
   "language": "python",
   "name": "conda-root-py"
  }
 },
 "nbformat": 4,
 "nbformat_minor": 5
}
