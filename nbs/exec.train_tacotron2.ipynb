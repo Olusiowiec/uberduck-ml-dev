{
 "cells": [
  {
   "cell_type": "markdown",
   "id": "325ebd9f",
   "metadata": {},
   "source": [
    "<h1>Table of Contents<span class=\"tocSkip\"></span></h1>\n",
    "<div class=\"toc\"><ul class=\"toc-item\"><li><span><a href=\"#New-heading\" data-toc-modified-id=\"New-heading-1\"><span class=\"toc-item-num\">1&nbsp;&nbsp;</span>New heading</a></span></li></ul></div>"
   ]
  },
  {
   "cell_type": "markdown",
   "id": "a1ae77f9",
   "metadata": {},
   "source": [
    "<h1>Table of Contents<span class=\"tocSkip\"></span></h1>\n",
    "<div class=\"toc\"><ul class=\"toc-item\"><li><span><a href=\"#New-heading\" data-toc-modified-id=\"New-heading-1\"><span class=\"toc-item-num\">1&nbsp;&nbsp;</span>New heading</a></span></li></ul></div>"
   ]
  },
  {
   "cell_type": "code",
   "execution_count": null,
   "id": "6dac8cf2",
   "metadata": {},
   "outputs": [],
   "source": [
    "#default_exp exec.train_tacotron2"
   ]
  },
  {
   "cell_type": "code",
   "execution_count": null,
   "id": "29a0a505",
   "metadata": {},
   "outputs": [],
   "source": [
    "#export\n",
    "import argparse\n",
    "import json\n",
    "import librosa  # NOTE(zach): importing torch before librosa causes LLVM issues for some unknown reason.\n",
    "import sys\n",
    "\n",
    "import torch\n",
    "from torch import multiprocessing as mp\n",
    "\n",
    "from uberduck_ml_dev.trainer.base import TTSTrainer, MellotronTrainer\n",
    "from uberduck_ml_dev.vendor.tfcompat.hparam import HParams\n",
    "from uberduck_ml_dev.models.mellotron import DEFAULTS as MELLOTRON_DEFAULTS\n",
    "\n",
    "def parse_args(args):\n",
    "    parser= argparse.ArgumentParser()\n",
    "    parser.add_argument(\"--config\", help=\"Path to JSON config\")\n",
    "    args = parser.parse_args(args)\n",
    "    return args\n"
   ]
  },
  {
   "cell_type": "markdown",
   "id": "214c3e84",
   "metadata": {},
   "source": [
    "# New heading"
   ]
  },
  {
   "cell_type": "code",
   "execution_count": null,
   "id": "d587164a",
   "metadata": {},
   "outputs": [],
   "source": [
    "assert isinstance(MELLOTRON_DEFAULTS, HParams)\n",
    "assert parse_args([\"--config\", \"foo.json\"]).config == \"foo.json\"\n",
    "assert parse_args([]).config is None\n",
    "assert HParams(**MELLOTRON_DEFAULTS.values()).values() == MELLOTRON_DEFAULTS.values()"
   ]
  },
  {
   "cell_type": "code",
   "execution_count": null,
   "id": "278f6ff7",
   "metadata": {},
   "outputs": [],
   "source": [
    "#export\n",
    "def run(rank, device_count, hparams):\n",
    "    trainer = MellotronTrainer(hparams, rank=rank, world_size=device_count)\n",
    "    try:\n",
    "        trainer.train()\n",
    "    except Exception as e:\n",
    "        print(f\"Exception raised while training: {e}\")\n",
    "        # TODO: save state.\n",
    "        raise e"
   ]
  },
  {
   "cell_type": "code",
   "execution_count": null,
   "id": "3d5d5dd2",
   "metadata": {},
   "outputs": [],
   "source": [
    "#export\n",
    "try:\n",
    "    from nbdev.imports import IN_NOTEBOOK\n",
    "except:\n",
    "    IN_NOTEBOOK = False\n",
    "if __name__ == \"__main__\" and not IN_NOTEBOOK:\n",
    "    args = parse_args(sys.argv[1:])\n",
    "    config = MELLOTRON_DEFAULTS.values()\n",
    "    if args.config:\n",
    "        with open(args.config) as f:\n",
    "            config.update(json.load(f))\n",
    "    hparams = HParams(**config)\n",
    "    if hparams.distributed_run:\n",
    "        device_count = torch.cuda.device_count()\n",
    "        mp.spawn(run, (device_count, hparams), device_count)\n",
    "    else:\n",
    "        run(None, None, hparams)\n"
   ]
  },
  {
   "cell_type": "code",
   "execution_count": null,
   "id": "98f85506",
   "metadata": {},
   "outputs": [],
   "source": []
  }
 ],
 "metadata": {
  "kernelspec": {
   "display_name": "Python 3",
   "language": "python",
   "name": "python3"
  },
  "language_info": {
   "codemirror_mode": {
    "name": "ipython",
    "version": 3
   },
   "file_extension": ".py",
   "mimetype": "text/x-python",
   "name": "python",
   "nbconvert_exporter": "python",
   "pygments_lexer": "ipython3",
   "version": "3.7.10"
  }
 },
 "nbformat": 4,
 "nbformat_minor": 5
}
