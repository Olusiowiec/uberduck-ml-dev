{
 "cells": [
  {
   "cell_type": "markdown",
   "id": "828813a1",
   "metadata": {},
   "source": [
    "<h1>Table of Contents<span class=\"tocSkip\"></span></h1>\n",
    "<div class=\"toc\"><ul class=\"toc-item\"></ul></div>"
   ]
  },
  {
   "cell_type": "code",
   "execution_count": null,
   "id": "a55cfc79",
   "metadata": {},
   "outputs": [],
   "source": [
    "# default_exp exec.preprocess_vits"
   ]
  },
  {
   "cell_type": "code",
   "execution_count": null,
   "id": "7cab3436",
   "metadata": {},
   "outputs": [],
   "source": [
    "# export\n",
    "import argparse\n",
    "\n",
    "from uberduck_ml_dev.text.util import clean_text\n",
    "from uberduck_ml_dev.utils.utils import load_filepaths_and_text\n",
    "\n",
    "try:\n",
    "    from nbdev.imports import IN_NOTEBOOK\n",
    "except:\n",
    "    IN_NOTEBOOK = False\n",
    "\n",
    "if __name__ == \"__main__\" and not IN_NOTEBOOK:\n",
    "    parser = argparse.ArgumentParser()\n",
    "    parser.add_argument(\"--out_extension\", default=\"cleaned\")\n",
    "    parser.add_argument(\"--text_index\", default=1, type=int)\n",
    "    parser.add_argument(\n",
    "        \"--filelists\",\n",
    "        nargs=\"+\",\n",
    "        default=[\n",
    "            \"filelists/ljs_audio_text_val_filelist.txt\",\n",
    "            \"filelists/ljs_audio_text_test_filelist.txt\",\n",
    "        ],\n",
    "    )\n",
    "    parser.add_argument(\"--text_cleaners\", nargs=\"+\", default=[\"english_cleaners2\"])\n",
    "\n",
    "    args = parser.parse_args()\n",
    "\n",
    "    for filelist in args.filelists:\n",
    "        print(\"START:\", filelist)\n",
    "        filepaths_and_text = load_filepaths_and_text(filelist)\n",
    "        for i in range(len(filepaths_and_text)):\n",
    "            original_text = filepaths_and_text[i][args.text_index]\n",
    "            cleaned_text = clean_text(original_text, args.text_cleaners)\n",
    "            filepaths_and_text[i][args.text_index] = cleaned_text\n",
    "\n",
    "        new_filelist = filelist + \".\" + args.out_extension\n",
    "        with open(new_filelist, \"w\", encoding=\"utf-8\") as f:\n",
    "            f.writelines([\"|\".join(x) + \"\\n\" for x in filepaths_and_text])"
   ]
  }
 ],
 "metadata": {
  "kernelspec": {
   "display_name": "Python 3",
   "language": "python",
   "name": "python3"
  }
 },
 "nbformat": 4,
 "nbformat_minor": 5
}
