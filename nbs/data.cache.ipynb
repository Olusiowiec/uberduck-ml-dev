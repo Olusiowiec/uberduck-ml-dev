{
 "cells": [
  {
   "cell_type": "markdown",
   "id": "99f428a6",
   "metadata": {},
   "source": [
    "<h1>Table of Contents<span class=\"tocSkip\"></span></h1>\n",
    "<div class=\"toc\"><ul class=\"toc-item\"></ul></div>"
   ]
  },
  {
   "cell_type": "markdown",
   "id": "75de2d44",
   "metadata": {},
   "source": [
    "<h1>Table of Contents<span class=\"tocSkip\"></span></h1>\n",
    "<div class=\"toc\"><ul class=\"toc-item\"></ul></div>"
   ]
  },
  {
   "cell_type": "code",
   "execution_count": null,
   "id": "b39bf971",
   "metadata": {},
   "outputs": [],
   "source": [
    "# default_exp data.cache"
   ]
  },
  {
   "cell_type": "code",
   "execution_count": null,
   "id": "52519baa",
   "metadata": {},
   "outputs": [],
   "source": [
    "# export\n",
    "\n",
    "import os\n",
    "from pathlib import Path\n",
    "\n",
    "import sqlite3\n",
    "\n",
    "CACHE_LOCATION = Path.home() / Path(\".cache/uberduck/uberduck-ml-dev.db\")\n",
    "\n",
    "\n",
    "def _path_to_speaker_name(path: str, speaker_idx_in_path=None):\n",
    "    p = Path(path)\n",
    "    if speaker_idx_in_path is not None:\n",
    "        return p.parts[speaker_idx_in_path]\n",
    "    assert \"wavs\" in p.parts, f\"Can't autodetect speaker name from path: {p.parts}\"\n",
    "    wavs_idx = p.parts.index(\"wavs\")\n",
    "    return p.parts[wavs_idx - 1]\n",
    "\n",
    "\n",
    "def insert_speaker(filelist, speaker, speaker_id, conn=None):\n",
    "    if conn is None:\n",
    "        conn = sqlite3.connect(str(CACHE_LOCATION))\n",
    "    conn.execute(\n",
    "        \"INSERT OR REPLACE INTO speakers VALUES (?, ?, ?)\",\n",
    "        (filelist, speaker, speaker_id),\n",
    "    )\n",
    "\n",
    "\n",
    "def ensure_speaker_table():\n",
    "    if not CACHE_LOCATION.parent.exists():\n",
    "        os.makedirs(CACHE_LOCATION.parent)\n",
    "    conn = sqlite3.connect(str(CACHE_LOCATION))\n",
    "    with conn:\n",
    "        conn.execute(\n",
    "            \"CREATE TABLE IF NOT EXISTS speakers (filepath TEXT, name TEXT, speaker_id INT)\"\n",
    "        )\n",
    "        conn.execute(\n",
    "            \"CREATE UNIQUE INDEX IF NOT EXISTS name_speaker_id_idx ON speakers(filepath, name)\"\n",
    "        )\n",
    "\n",
    "\n",
    "def ensure_filelist_in_cache(filelist, speaker_idx_in_path=None):\n",
    "    with open(filelist) as f:\n",
    "        lines = f.readlines()\n",
    "    num_speakers = len(set([line.strip().split(\"|\")[2] for line in lines]))\n",
    "    conn = sqlite3.connect(str(CACHE_LOCATION))\n",
    "    with conn:\n",
    "        count = conn.execute(\n",
    "            \"SELECT COUNT(*) FROM speakers WHERE filepath = ?\", (filelist,)\n",
    "        ).fetchone()[0]\n",
    "        speaker_name_to_id = {}\n",
    "        if count != num_speakers:\n",
    "            print(\n",
    "                f\"Filelist not found in cache. Cache count: {count}. Filelist count: {num_speakers}.\"\n",
    "            )\n",
    "            for line in lines:\n",
    "                path, txn, sid = line.strip().split(\"|\")\n",
    "                speaker_name = _path_to_speaker_name(\n",
    "                    path, speaker_idx_in_path=speaker_idx_in_path\n",
    "                )\n",
    "                if speaker_name in speaker_name_to_id:\n",
    "                    continue\n",
    "                else:\n",
    "                    speaker_name_to_id[speaker_name] = int(sid)\n",
    "            for speaker_name, speaker_id in speaker_name_to_id.items():\n",
    "                insert_speaker(filelist, speaker_name, speaker_id, conn)"
   ]
  },
  {
   "cell_type": "code",
   "execution_count": null,
   "id": "b7162802",
   "metadata": {},
   "outputs": [],
   "source": [
    "# skip\n",
    "p = Path(\"/Users/zwf/data/voice/vapor-trail/wavs/vapor-trail-1.wav\")\n",
    "wavs_idx = p.parts.index(\"wavs\")"
   ]
  },
  {
   "cell_type": "code",
   "execution_count": null,
   "id": "c1726bdd",
   "metadata": {},
   "outputs": [],
   "source": []
  }
 ],
 "metadata": {
  "kernelspec": {
   "display_name": "Python 3",
   "language": "python",
   "name": "python3"
  }
 },
 "nbformat": 4,
 "nbformat_minor": 5
}
