{
 "cells": [
  {
   "cell_type": "markdown",
   "id": "dc4d2694",
   "metadata": {},
   "source": [
    "<h1>Table of Contents<span class=\"tocSkip\"></span></h1>\n",
    "<div class=\"toc\"><ul class=\"toc-item\"></ul></div>"
   ]
  },
  {
   "cell_type": "code",
   "execution_count": null,
   "id": "535085d2",
   "metadata": {},
   "outputs": [],
   "source": [
    "#default_exp trainer.base"
   ]
  },
  {
   "cell_type": "code",
   "execution_count": null,
   "id": "47500540",
   "metadata": {},
   "outputs": [],
   "source": [
    "#export\n",
    "\n",
    "class TTSTrainer():\n",
    "\n",
    "    def __init__(model_type, model_opts, data, warm_start = False):\n",
    "\n",
    "        self.data = data\n",
    "\n",
    "        if not warm_start:\n",
    "            pass\n",
    "            # model = ud.TTSModel.create(model_type, model_options)\n",
    "\n",
    "\n",
    "    def train():\n",
    "        pass\n",
    "        #for batch in enumerate(data):\n",
    "        #    #fill in"
   ]
  },
  {
   "cell_type": "code",
   "execution_count": null,
   "id": "d46fc18b",
   "metadata": {},
   "outputs": [],
   "source": []
  }
 ],
 "metadata": {
  "kernelspec": {
   "display_name": "Python 3",
   "language": "python",
   "name": "python3"
  }
 },
 "nbformat": 4,
 "nbformat_minor": 5
}
