{
 "cells": [
  {
   "cell_type": "markdown",
   "id": "0fce7415",
   "metadata": {},
   "source": [
    "<h1>Table of Contents<span class=\"tocSkip\"></span></h1>\n",
    "<div class=\"toc\"><ul class=\"toc-item\"></ul></div>"
   ]
  },
  {
   "cell_type": "markdown",
   "id": "1f17ca71",
   "metadata": {},
   "source": [
    "<h1>Table of Contents<span class=\"tocSkip\"></span></h1>\n",
    "<div class=\"toc\"><ul class=\"toc-item\"></ul></div>"
   ]
  },
  {
   "cell_type": "code",
   "execution_count": null,
   "id": "cc276ac3",
   "metadata": {},
   "outputs": [],
   "source": [
    "# default_exp utils.plot"
   ]
  },
  {
   "cell_type": "code",
   "execution_count": null,
   "id": "0cda5ddb",
   "metadata": {},
   "outputs": [
    {
     "name": "stderr",
     "output_type": "stream",
     "text": [
      "/Users/zwf/miniconda3/envs/uberduck/lib/python3.6/site-packages/ipykernel_launcher.py:5: UserWarning: \n",
      "This call to matplotlib.use() has no effect because the backend has already\n",
      "been chosen; matplotlib.use() must be called *before* pylab, matplotlib.pyplot,\n",
      "or matplotlib.backends is imported for the first time.\n",
      "\n",
      "The backend was *originally* set to 'module://ipykernel.pylab.backend_inline' by the following code:\n",
      "  File \"/Users/zwf/miniconda3/envs/uberduck/lib/python3.6/runpy.py\", line 193, in _run_module_as_main\n",
      "    \"__main__\", mod_spec)\n",
      "  File \"/Users/zwf/miniconda3/envs/uberduck/lib/python3.6/runpy.py\", line 85, in _run_code\n",
      "    exec(code, run_globals)\n",
      "  File \"/Users/zwf/miniconda3/envs/uberduck/lib/python3.6/site-packages/ipykernel_launcher.py\", line 16, in <module>\n",
      "    app.launch_new_instance()\n",
      "  File \"/Users/zwf/miniconda3/envs/uberduck/lib/python3.6/site-packages/traitlets/config/application.py\", line 664, in launch_instance\n",
      "    app.start()\n",
      "  File \"/Users/zwf/miniconda3/envs/uberduck/lib/python3.6/site-packages/ipykernel/kernelapp.py\", line 612, in start\n",
      "    self.io_loop.start()\n",
      "  File \"/Users/zwf/miniconda3/envs/uberduck/lib/python3.6/site-packages/tornado/platform/asyncio.py\", line 199, in start\n",
      "    self.asyncio_loop.run_forever()\n",
      "  File \"/Users/zwf/miniconda3/envs/uberduck/lib/python3.6/asyncio/base_events.py\", line 442, in run_forever\n",
      "    self._run_once()\n",
      "  File \"/Users/zwf/miniconda3/envs/uberduck/lib/python3.6/asyncio/base_events.py\", line 1462, in _run_once\n",
      "    handle._run()\n",
      "  File \"/Users/zwf/miniconda3/envs/uberduck/lib/python3.6/asyncio/events.py\", line 145, in _run\n",
      "    self._callback(*self._args)\n",
      "  File \"/Users/zwf/miniconda3/envs/uberduck/lib/python3.6/site-packages/tornado/ioloop.py\", line 688, in <lambda>\n",
      "    lambda f: self._run_callback(functools.partial(callback, future))\n",
      "  File \"/Users/zwf/miniconda3/envs/uberduck/lib/python3.6/site-packages/tornado/ioloop.py\", line 741, in _run_callback\n",
      "    ret = callback()\n",
      "  File \"/Users/zwf/miniconda3/envs/uberduck/lib/python3.6/site-packages/tornado/gen.py\", line 814, in inner\n",
      "    self.ctx_run(self.run)\n",
      "  File \"/Users/zwf/miniconda3/envs/uberduck/lib/python3.6/site-packages/contextvars/__init__.py\", line 38, in run\n",
      "    return callable(*args, **kwargs)\n",
      "  File \"/Users/zwf/miniconda3/envs/uberduck/lib/python3.6/site-packages/tornado/gen.py\", line 775, in run\n",
      "    yielded = self.gen.send(value)\n",
      "  File \"/Users/zwf/miniconda3/envs/uberduck/lib/python3.6/site-packages/ipykernel/kernelbase.py\", line 358, in process_one\n",
      "    yield gen.maybe_future(dispatch(*args))\n",
      "  File \"/Users/zwf/miniconda3/envs/uberduck/lib/python3.6/site-packages/tornado/gen.py\", line 234, in wrapper\n",
      "    yielded = ctx_run(next, result)\n",
      "  File \"/Users/zwf/miniconda3/envs/uberduck/lib/python3.6/site-packages/contextvars/__init__.py\", line 38, in run\n",
      "    return callable(*args, **kwargs)\n",
      "  File \"/Users/zwf/miniconda3/envs/uberduck/lib/python3.6/site-packages/ipykernel/kernelbase.py\", line 261, in dispatch_shell\n",
      "    yield gen.maybe_future(handler(stream, idents, msg))\n",
      "  File \"/Users/zwf/miniconda3/envs/uberduck/lib/python3.6/site-packages/tornado/gen.py\", line 234, in wrapper\n",
      "    yielded = ctx_run(next, result)\n",
      "  File \"/Users/zwf/miniconda3/envs/uberduck/lib/python3.6/site-packages/contextvars/__init__.py\", line 38, in run\n",
      "    return callable(*args, **kwargs)\n",
      "  File \"/Users/zwf/miniconda3/envs/uberduck/lib/python3.6/site-packages/ipykernel/kernelbase.py\", line 538, in execute_request\n",
      "    user_expressions, allow_stdin,\n",
      "  File \"/Users/zwf/miniconda3/envs/uberduck/lib/python3.6/site-packages/tornado/gen.py\", line 234, in wrapper\n",
      "    yielded = ctx_run(next, result)\n",
      "  File \"/Users/zwf/miniconda3/envs/uberduck/lib/python3.6/site-packages/contextvars/__init__.py\", line 38, in run\n",
      "    return callable(*args, **kwargs)\n",
      "  File \"/Users/zwf/miniconda3/envs/uberduck/lib/python3.6/site-packages/ipykernel/ipkernel.py\", line 302, in do_execute\n",
      "    res = shell.run_cell(code, store_history=store_history, silent=silent)\n",
      "  File \"/Users/zwf/miniconda3/envs/uberduck/lib/python3.6/site-packages/ipykernel/zmqshell.py\", line 539, in run_cell\n",
      "    return super(ZMQInteractiveShell, self).run_cell(*args, **kwargs)\n",
      "  File \"/Users/zwf/miniconda3/envs/uberduck/lib/python3.6/site-packages/IPython/core/interactiveshell.py\", line 2867, in run_cell\n",
      "    raw_cell, store_history, silent, shell_futures)\n",
      "  File \"/Users/zwf/miniconda3/envs/uberduck/lib/python3.6/site-packages/IPython/core/interactiveshell.py\", line 2895, in _run_cell\n",
      "    return runner(coro)\n",
      "  File \"/Users/zwf/miniconda3/envs/uberduck/lib/python3.6/site-packages/IPython/core/async_helpers.py\", line 68, in _pseudo_sync_runner\n",
      "    coro.send(None)\n",
      "  File \"/Users/zwf/miniconda3/envs/uberduck/lib/python3.6/site-packages/IPython/core/interactiveshell.py\", line 3072, in run_cell_async\n",
      "    interactivity=interactivity, compiler=compiler, result=result)\n",
      "  File \"/Users/zwf/miniconda3/envs/uberduck/lib/python3.6/site-packages/IPython/core/interactiveshell.py\", line 3263, in run_ast_nodes\n",
      "    if (await self.run_code(code, result,  async_=asy)):\n",
      "  File \"/Users/zwf/miniconda3/envs/uberduck/lib/python3.6/site-packages/IPython/core/interactiveshell.py\", line 3343, in run_code\n",
      "    exec(code_obj, self.user_global_ns, self.user_ns)\n",
      "  File \"<ipython-input-21-9e3324102725>\", line 1, in <module>\n",
      "    get_ipython().run_line_magic('matplotlib', 'inline')\n",
      "  File \"/Users/zwf/miniconda3/envs/uberduck/lib/python3.6/site-packages/IPython/core/interactiveshell.py\", line 2326, in run_line_magic\n",
      "    result = fn(*args, **kwargs)\n",
      "  File \"<decorator-gen-108>\", line 2, in matplotlib\n",
      "  File \"/Users/zwf/miniconda3/envs/uberduck/lib/python3.6/site-packages/IPython/core/magic.py\", line 187, in <lambda>\n",
      "    call = lambda f, *a, **k: f(*a, **k)\n",
      "  File \"/Users/zwf/miniconda3/envs/uberduck/lib/python3.6/site-packages/IPython/core/magics/pylab.py\", line 99, in matplotlib\n",
      "    gui, backend = self.shell.enable_matplotlib(args.gui.lower() if isinstance(args.gui, str) else args.gui)\n",
      "  File \"/Users/zwf/miniconda3/envs/uberduck/lib/python3.6/site-packages/ipykernel/zmqshell.py\", line 601, in enable_matplotlib\n",
      "    gui, backend = super(ZMQInteractiveShell, self).enable_matplotlib(gui)\n",
      "  File \"/Users/zwf/miniconda3/envs/uberduck/lib/python3.6/site-packages/IPython/core/interactiveshell.py\", line 3431, in enable_matplotlib\n",
      "    pt.activate_matplotlib(backend)\n",
      "  File \"/Users/zwf/miniconda3/envs/uberduck/lib/python3.6/site-packages/IPython/core/pylabtools.py\", line 322, in activate_matplotlib\n",
      "    plt.switch_backend(backend)\n",
      "  File \"/Users/zwf/miniconda3/envs/uberduck/lib/python3.6/site-packages/matplotlib/pyplot.py\", line 229, in switch_backend\n",
      "    matplotlib.use(newbackend, warn=False, force=True)\n",
      "  File \"/Users/zwf/miniconda3/envs/uberduck/lib/python3.6/site-packages/matplotlib/__init__.py\", line 1305, in use\n",
      "    reload(sys.modules['matplotlib.backends'])\n",
      "  File \"/Users/zwf/miniconda3/envs/uberduck/lib/python3.6/importlib/__init__.py\", line 166, in reload\n",
      "    _bootstrap._exec(spec, module)\n",
      "  File \"/Users/zwf/miniconda3/envs/uberduck/lib/python3.6/site-packages/matplotlib/backends/__init__.py\", line 14, in <module>\n",
      "    line for line in traceback.format_stack()\n",
      "\n",
      "\n",
      "  \"\"\"\n"
     ]
    }
   ],
   "source": [
    "# export\n",
    "import numpy as np\n",
    "import matplotlib\n",
    "\n",
    "matplotlib.use(\"Agg\")\n",
    "import matplotlib.pyplot as plt\n",
    "\n",
    "\n",
    "def save_figure_to_numpy(fig):\n",
    "    \"\"\"Save figure to a numpy array.\"\"\"\n",
    "    data = np.fromstring(fig.canvas.tostring_rgb(), dtype=np.uint8, sep=\"\")\n",
    "    data = data.reshape(fig.canvas.get_width_height()[::-1] + (3,))\n",
    "    plt.close(fig)\n",
    "    return data\n",
    "\n",
    "\n",
    "def plot_spectrogram(mel):\n",
    "    figure = plt.figure()\n",
    "    plt.xlabel(\"Spectrogram frame\")\n",
    "    plt.ylabel(\"Channel\")\n",
    "    plt.imshow(mel, aspect=\"auto\", origin=\"lower\", interpolation=\"none\", cmap=\"inferno\")\n",
    "    figure.canvas.draw()\n",
    "    return figure"
   ]
  },
  {
   "cell_type": "code",
   "execution_count": null,
   "id": "10fd2062",
   "metadata": {},
   "outputs": [],
   "source": [
    "%matplotlib inline"
   ]
  },
  {
   "cell_type": "code",
   "execution_count": null,
   "id": "147d6eec",
   "metadata": {},
   "outputs": [
    {
     "name": "stderr",
     "output_type": "stream",
     "text": [
      "/Users/zwf/miniconda3/envs/uberduck/lib/python3.6/site-packages/ipykernel_launcher.py:11: DeprecationWarning: The binary mode of fromstring is deprecated, as it behaves surprisingly on unicode inputs. Use frombuffer instead\n",
      "  # This is added back by InteractiveShellApp.init_path()\n"
     ]
    }
   ],
   "source": [
    "import torch\n",
    "\n",
    "mel = torch.load(\"test/fixtures/stevejobs-1.pt\")\n",
    "figure = plot_spectrogram(mel)\n",
    "numpy_figure = save_figure_to_numpy(figure)\n",
    "\n",
    "plt.show()\n",
    "# numpy_figure"
   ]
  },
  {
   "cell_type": "code",
   "execution_count": null,
   "id": "f57a0e8d",
   "metadata": {},
   "outputs": [],
   "source": [
    "# export\n",
    "\n",
    "\n",
    "def plot_attention(attention):\n",
    "    figure = plt.figure()\n",
    "    plt.xlabel(\"Decoder timestep\")\n",
    "    plt.ylabel(\"Encoder timestep\")\n",
    "    plt.imshow(\n",
    "        attention.data.cpu().numpy(),\n",
    "        aspect=\"auto\",\n",
    "        origin=\"lower\",\n",
    "        interpolation=\"none\",\n",
    "        cmap=\"inferno\",\n",
    "    )\n",
    "    figure.canvas.draw()\n",
    "    return figure\n",
    "\n",
    "\n",
    "def plot_gate_outputs(gate_targets, gate_outputs):\n",
    "    figure = plt.figure()\n",
    "    plt.xlabel(\"Frames\")\n",
    "    plt.ylabel(\"Gate state\")\n",
    "    ax = figure.add_axes([0, 0, 1, 1])\n",
    "    ax.scatter(\n",
    "        range(gate_targets.size(0)),\n",
    "        gate_targets,\n",
    "        alpha=0.5,\n",
    "        color=\"green\",\n",
    "        marker=\"+\",\n",
    "        s=1,\n",
    "        label=\"target\",\n",
    "    )\n",
    "    ax.scatter(\n",
    "        range(gate_outputs.size(0)),\n",
    "        gate_outputs,\n",
    "        alpha=0.5,\n",
    "        color=\"red\",\n",
    "        marker=\".\",\n",
    "        s=1,\n",
    "        label=\"predicted\",\n",
    "    )\n",
    "    figure.canvas.draw()\n",
    "    return figure"
   ]
  },
  {
   "cell_type": "code",
   "execution_count": null,
   "id": "68167002",
   "metadata": {},
   "outputs": [
    {
     "name": "stderr",
     "output_type": "stream",
     "text": [
      "/Users/zwf/miniconda3/envs/uberduck/lib/python3.6/site-packages/ipykernel_launcher.py:11: DeprecationWarning: The binary mode of fromstring is deprecated, as it behaves surprisingly on unicode inputs. Use frombuffer instead\n",
      "  # This is added back by InteractiveShellApp.init_path()\n"
     ]
    }
   ],
   "source": [
    "fig = plot_attention(torch.randn(50, 200))\n",
    "numpy_figure = save_figure_to_numpy(fig)\n",
    "# from PIL import Image as im\n",
    "#\n",
    "# im.fromarray(numpy_figure)"
   ]
  },
  {
   "cell_type": "code",
   "execution_count": null,
   "id": "235cf8ca",
   "metadata": {},
   "outputs": [
    {
     "name": "stderr",
     "output_type": "stream",
     "text": [
      "/Users/zwf/miniconda3/envs/uberduck/lib/python3.6/site-packages/ipykernel_launcher.py:11: DeprecationWarning: The binary mode of fromstring is deprecated, as it behaves surprisingly on unicode inputs. Use frombuffer instead\n",
      "  # This is added back by InteractiveShellApp.init_path()\n"
     ]
    }
   ],
   "source": [
    "fig = plot_gate_outputs(torch.randn(300), torch.randn(300))\n",
    "numpy_figure = save_figure_to_numpy(fig)\n",
    "# im.fromarray(numpy_figure)"
   ]
  },
  {
   "cell_type": "code",
   "execution_count": null,
   "id": "2f5dac53",
   "metadata": {},
   "outputs": [
    {
     "data": {
      "image/png": "[encoded data removed]",
      "text/plain": [
       "<PIL.Image.Image image mode=RGB size=432x288 at 0x7FE0B8117320>"
      ]
     },
     "execution_count": null,
     "metadata": {},
     "output_type": "execute_result"
    }
   ],
   "source": []
  },
  {
   "cell_type": "code",
   "execution_count": null,
   "id": "f6cef8da",
   "metadata": {},
   "outputs": [],
   "source": []
  }
 ],
 "metadata": {
  "kernelspec": {
   "display_name": "Python 3",
   "language": "python",
   "name": "python3"
  }
 },
 "nbformat": 4,
 "nbformat_minor": 5
}
