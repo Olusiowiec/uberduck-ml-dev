{
 "cells": [
  {
   "cell_type": "markdown",
   "id": "0fce7415",
   "metadata": {},
   "source": [
    "<h1>Table of Contents<span class=\"tocSkip\"></span></h1>\n",
    "<div class=\"toc\"><ul class=\"toc-item\"></ul></div>"
   ]
  },
  {
   "cell_type": "markdown",
   "id": "1f17ca71",
   "metadata": {},
   "source": [
    "<h1>Table of Contents<span class=\"tocSkip\"></span></h1>\n",
    "<div class=\"toc\"><ul class=\"toc-item\"></ul></div>"
   ]
  },
  {
   "cell_type": "code",
   "execution_count": null,
   "id": "cc276ac3",
   "metadata": {},
   "outputs": [],
   "source": [
    "# default_exp utils.plot"
   ]
  },
  {
   "cell_type": "code",
   "execution_count": null,
   "id": "0cda5ddb",
   "metadata": {},
   "outputs": [],
   "source": [
    "# export\n",
    "import numpy as np\n",
    "import matplotlib\n",
    "\n",
    "matplotlib.use(\"Agg\")\n",
    "import matplotlib.pyplot as plt\n",
    "\n",
    "\n",
    "def save_figure_to_numpy(fig):\n",
    "    \"\"\"Save figure to a numpy array.\"\"\"\n",
    "    data = np.fromstring(fig.canvas.tostring_rgb(), dtype=np.uint8, sep=\"\")\n",
    "    data = data.reshape(fig.canvas.get_width_height()[::-1] + (3,))\n",
    "    return data\n",
    "\n",
    "\n",
    "def plot_spectrogram(mel):\n",
    "    figure = plt.figure()\n",
    "    figure.canvas.draw()\n",
    "    plt.xlabel(\"Spectrogram frame\")\n",
    "    plt.ylabel(\"Channel\")\n",
    "    plt.imshow(mel, aspect=\"auto\", origin=\"lower\", interpolation=\"none\", cmap=\"inferno\")\n",
    "    return figure"
   ]
  },
  {
   "cell_type": "code",
   "execution_count": null,
   "id": "147d6eec",
   "metadata": {},
   "outputs": [
    {
     "name": "stderr",
     "output_type": "stream",
     "text": [
      "/Users/zwf/miniconda3/envs/uberduck/lib/python3.6/site-packages/ipykernel_launcher.py:10: DeprecationWarning: The binary mode of fromstring is deprecated, as it behaves surprisingly on unicode inputs. Use frombuffer instead\n",
      "  # Remove the CWD from sys.path while we load stuff.\n"
     ]
    }
   ],
   "source": [
    "import torch\n",
    "\n",
    "mel = torch.load(\"test/fixtures/stevejobs-1.pt\")\n",
    "figure = plot_spectrogram(mel)\n",
    "numpy_figure = save_figure_to_numpy(figure)"
   ]
  },
  {
   "cell_type": "code",
   "execution_count": null,
   "id": "f57a0e8d",
   "metadata": {},
   "outputs": [],
   "source": [
    "# export\n",
    "\n",
    "\n",
    "def plot_attention(attention):\n",
    "    figure = plt.figure()\n",
    "    figure.canvas.draw()\n",
    "    plt.xlabel(\"Decoder timestep\")\n",
    "    plt.ylabel(\"Encoder timestep\")\n",
    "    plt.imshow(\n",
    "        attention.data.cpu().numpy(),\n",
    "        aspect=\"auto\",\n",
    "        origin=\"lower\",\n",
    "        interpolation=\"none\",\n",
    "        cmap=\"inferno\",\n",
    "    )\n",
    "    return figure\n",
    "\n",
    "\n",
    "def plot_gate_outputs(gate_targets, gate_outputs):\n",
    "    figure = plt.figure()\n",
    "    figure.canvas.draw()\n",
    "    plt.xlabel(\"Frames\")\n",
    "    plt.ylabel(\"Gate state\")\n",
    "    ax = figure.add_axes([0, 0, 1, 1])\n",
    "    ax.scatter(\n",
    "        range(gate_targets.size(0)),\n",
    "        gate_targets,\n",
    "        alpha=0.5,\n",
    "        color=\"green\",\n",
    "        marker=\"+\",\n",
    "        s=1,\n",
    "        label=\"target\",\n",
    "    )\n",
    "    ax.scatter(\n",
    "        range(gate_outputs.size(0)),\n",
    "        gate_outputs,\n",
    "        alpha=0.5,\n",
    "        color=\"red\",\n",
    "        marker=\".\",\n",
    "        s=1,\n",
    "        label=\"predicted\",\n",
    "    )\n",
    "    return figure"
   ]
  },
  {
   "cell_type": "code",
   "execution_count": null,
   "id": "68167002",
   "metadata": {},
   "outputs": [
    {
     "data": {
      "text/plain": [
       "<matplotlib.figure.Figure at 0x7fc19bc03630>"
      ]
     },
     "execution_count": null,
     "metadata": {},
     "output_type": "execute_result"
    }
   ],
   "source": [
    "fig = plot_attention(torch.randn(50, 200))\n",
    "fig"
   ]
  },
  {
   "cell_type": "code",
   "execution_count": null,
   "id": "235cf8ca",
   "metadata": {},
   "outputs": [
    {
     "data": {
      "text/plain": [
       "<matplotlib.figure.Figure at 0x7fc19bd7e400>"
      ]
     },
     "execution_count": null,
     "metadata": {},
     "output_type": "execute_result"
    }
   ],
   "source": [
    "fig = plot_gate_outputs(torch.randn(300), torch.randn(300))\n",
    "fig"
   ]
  },
  {
   "cell_type": "code",
   "execution_count": null,
   "id": "2f5dac53",
   "metadata": {},
   "outputs": [],
   "source": []
  }
 ],
 "metadata": {
  "kernelspec": {
   "display_name": "Python 3",
   "language": "python",
   "name": "python3"
  }
 },
 "nbformat": 4,
 "nbformat_minor": 5
}
