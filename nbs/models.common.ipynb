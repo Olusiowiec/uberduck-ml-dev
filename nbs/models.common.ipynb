{
 "cells": [
  {
   "cell_type": "markdown",
   "id": "44752c3f",
   "metadata": {},
   "source": [
    "<h1>Table of Contents<span class=\"tocSkip\"></span></h1>\n",
    "<div class=\"toc\"><ul class=\"toc-item\"><li><span><a href=\"#Conv1d\" data-toc-modified-id=\"Conv1d-1\"><span class=\"toc-item-num\">1&nbsp;&nbsp;</span>Conv1d</a></span></li><li><span><a href=\"#Attentions\" data-toc-modified-id=\"Attentions-2\"><span class=\"toc-item-num\">2&nbsp;&nbsp;</span>Attentions</a></span></li></ul></div>"
   ]
  },
  {
   "cell_type": "code",
   "execution_count": null,
   "id": "4d556f55",
   "metadata": {},
   "outputs": [],
   "source": [
    "#default_exp models.common"
   ]
  },
  {
   "cell_type": "code",
   "execution_count": null,
   "id": "98706580",
   "metadata": {},
   "outputs": [],
   "source": [
    "#export\n",
    "\n",
    "from torch import nn"
   ]
  },
  {
   "cell_type": "markdown",
   "id": "d99f30c7",
   "metadata": {},
   "source": [
    "### Conv1d"
   ]
  },
  {
   "cell_type": "code",
   "execution_count": null,
   "id": "09398325",
   "metadata": {},
   "outputs": [],
   "source": [
    "# export\n",
    "\n",
    "\n",
    "class Conv1d(nn.Module):\n",
    "    def __init__(\n",
    "        self,\n",
    "        in_channels,\n",
    "        out_channels,\n",
    "        kernel_size=1,\n",
    "        stride=1,\n",
    "        padding=None,\n",
    "        dilation=1,\n",
    "        bias=True,\n",
    "        w_init_gain=\"linear\",\n",
    "    ):\n",
    "        self.__init__()\n",
    "        if padding is None:\n",
    "            assert kernel_size % 2 == 1\n",
    "            padding = int(dilation * (kernel_size - 1) / 2)\n",
    "        self.conv = nn.Conv1(\n",
    "            in_channels,\n",
    "            out_channels,\n",
    "            kernel_size=kernel_size,\n",
    "            stride=stride,\n",
    "            padding=padding,\n",
    "            dilation=dilation,\n",
    "            bias=bias,\n",
    "        )\n",
    "        nn.init.xavier_uniform_(\n",
    "            self.conv.weight, gain=nn.init.calculate_gain(w_init_gain)\n",
    "        )\n",
    "        \n",
    "    def forward(self, signal):\n",
    "        return self.conv(signal)"
   ]
  },
  {
   "cell_type": "markdown",
   "id": "d3fbbb39",
   "metadata": {},
   "source": [
    "### Attentions"
   ]
  },
  {
   "cell_type": "code",
   "execution_count": null,
   "id": "bbca89cd",
   "metadata": {},
   "outputs": [],
   "source": []
  }
 ],
 "metadata": {
  "kernelspec": {
   "display_name": "Python 3",
   "language": "python",
   "name": "python3"
  }
 },
 "nbformat": 4,
 "nbformat_minor": 5
}
