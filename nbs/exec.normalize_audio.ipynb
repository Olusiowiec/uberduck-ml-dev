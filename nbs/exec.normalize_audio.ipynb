{
 "cells": [
  {
   "cell_type": "markdown",
   "id": "281f2d2d",
   "metadata": {},
   "source": [
    "<h1>Table of Contents<span class=\"tocSkip\"></span></h1>\n",
    "<div class=\"toc\"><ul class=\"toc-item\"></ul></div>"
   ]
  },
  {
   "cell_type": "code",
   "execution_count": null,
   "id": "61ac42b3",
   "metadata": {},
   "outputs": [],
   "source": [
    "#default_exp exec.normalize_audio"
   ]
  },
  {
   "cell_type": "code",
   "execution_count": null,
   "id": "7a3e0734",
   "metadata": {},
   "outputs": [],
   "source": [
    "#export\n",
    "\n",
    "import argparse\n",
    "import os\n",
    "\n",
    "from uberduck_ml_dev.utils.audio import normalize_audio\n",
    "\n",
    "def run(dirname, backup):\n",
    "    \"\"\"Normalize all the audio files in a directory.\"\"\"\n",
    "    old_dirname = dirname\n",
    "    if backup:\n",
    "        old_dirname = f\"{os.path.normpath(old_dirname)}_backup\"\n",
    "        os.rename(dirname, old_dirname)\n",
    "    for dirpath, _, filenames in os.walk(old_dirname):\n",
    "        rel_path = os.path.relpath(dirpath, old_dirname)\n",
    "        for filename in filenames:\n",
    "            if not filename.endswith(\".wav\"):\n",
    "                continue\n",
    "            old_path = os.path.join(dirpath, filename)\n",
    "            new_path = os.path.join(dirname, rel_path, filename)\n",
    "            if not os.path.exists(os.path.join(dirname, rel_path)):\n",
    "                os.makedirs(os.path.join(dirname, rel_path))\n",
    "            normalize_audio(old_path, new_path)\n",
    "\n",
    "def parse_args(args):\n",
    "    parser = argparse.ArgumentParser()\n",
    "    parser.add_argument(\"-d\", \"--dirname\", help=\"Path to the directory which contains audio files to normalize.\")\n",
    "    parser.add_argument(\"--backup\", dest=\"backup\", action=\"store_true\")\n",
    "    parser.add_argument(\"--no-backup\", dest=\"backup\", action=\"store_false\")\n",
    "    parser.set_defaults(backup=True)\n",
    "    return parser.parse_args(args)"
   ]
  },
  {
   "cell_type": "code",
   "execution_count": null,
   "id": "73d4731e",
   "metadata": {},
   "outputs": [],
   "source": [
    "#export\n",
    "\n",
    "try:\n",
    "    from nbdev.imports import IN_NOTEBOOK\n",
    "except:\n",
    "    IN_NOTEBOOK = False\n",
    "\n",
    "if __name__ == \"__main__\" and not IN_NOTEBOOK:\n",
    "    args = parse_args(sys.argv[1:])\n",
    "    run(args.dirname, args.backup)\n"
   ]
  },
  {
   "cell_type": "code",
   "execution_count": null,
   "id": "67e5dc4b",
   "metadata": {},
   "outputs": [],
   "source": []
  },
  {
   "cell_type": "code",
   "execution_count": null,
   "id": "71431f72",
   "metadata": {},
   "outputs": [],
   "source": []
  },
  {
   "cell_type": "code",
   "execution_count": null,
   "id": "0ee5ffec",
   "metadata": {},
   "outputs": [],
   "source": []
  }
 ],
 "metadata": {
  "kernelspec": {
   "display_name": "Python 3",
   "language": "python",
   "name": "python3"
  }
 },
 "nbformat": 4,
 "nbformat_minor": 5
}
