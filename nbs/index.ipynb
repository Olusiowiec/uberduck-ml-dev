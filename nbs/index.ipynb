{
 "cells": [
  {
   "cell_type": "markdown",
   "metadata": {},
   "source": [
    "<h1>Table of Contents<span class=\"tocSkip\"></span></h1>\n",
    "<div class=\"toc\"><ul class=\"toc-item\"><li><span><a href=\"#Project-name-here\" data-toc-modified-id=\"Project-name-here-1\"><span class=\"toc-item-num\">1&nbsp;&nbsp;</span>Project name here</a></span><ul class=\"toc-item\"><li><span><a href=\"#Install\" data-toc-modified-id=\"Install-1.1\"><span class=\"toc-item-num\">1.1&nbsp;&nbsp;</span>Install</a></span></li><li><span><a href=\"#How-to-use\" data-toc-modified-id=\"How-to-use-1.2\"><span class=\"toc-item-num\">1.2&nbsp;&nbsp;</span>How to use</a></span></li><li><span><a href=\"#Development\" data-toc-modified-id=\"Development-1.3\"><span class=\"toc-item-num\">1.3&nbsp;&nbsp;</span>Development</a></span></li></ul></li></ul></div>"
   ]
  },
  {
   "cell_type": "markdown",
   "metadata": {},
   "source": [
    "<h1>Table of Contents<span class=\"tocSkip\"></span></h1>\n",
    "<div class=\"toc\"><ul class=\"toc-item\"><li><span><a href=\"#Project-name-here\" data-toc-modified-id=\"Project-name-here-1\"><span class=\"toc-item-num\">1&nbsp;&nbsp;</span>Project name here</a></span><ul class=\"toc-item\"><li><span><a href=\"#Install\" data-toc-modified-id=\"Install-1.1\"><span class=\"toc-item-num\">1.1&nbsp;&nbsp;</span>Install</a></span></li><li><span><a href=\"#How-to-use\" data-toc-modified-id=\"How-to-use-1.2\"><span class=\"toc-item-num\">1.2&nbsp;&nbsp;</span>How to use</a></span></li><li><span><a href=\"#Development\" data-toc-modified-id=\"Development-1.3\"><span class=\"toc-item-num\">1.3&nbsp;&nbsp;</span>Development</a></span></li></ul></li></ul></div>"
   ]
  },
  {
   "cell_type": "code",
   "execution_count": null,
   "metadata": {},
   "outputs": [],
   "source": [
    "#hide\n",
    "from uberduck_ml_dev import *"
   ]
  },
  {
   "cell_type": "markdown",
   "metadata": {},
   "source": [
    "# Project name here\n",
    "\n",
    "> Summary description here."
   ]
  },
  {
   "cell_type": "markdown",
   "metadata": {},
   "source": [
    "This file will become your README and also the index of your documentation."
   ]
  },
  {
   "cell_type": "markdown",
   "metadata": {},
   "source": [
    "## Install"
   ]
  },
  {
   "cell_type": "markdown",
   "metadata": {},
   "source": [
    "`pip install your_project_name`"
   ]
  },
  {
   "cell_type": "markdown",
   "metadata": {},
   "source": [
    "## How to use"
   ]
  },
  {
   "cell_type": "markdown",
   "metadata": {},
   "source": [
    "Fill me in please! Don't forget code examples:"
   ]
  },
  {
   "cell_type": "code",
   "execution_count": null,
   "metadata": {},
   "outputs": [
    {
     "data": {
      "text/plain": [
       "2"
      ]
     },
     "execution_count": null,
     "metadata": {},
     "output_type": "execute_result"
    }
   ],
   "source": [
    "1+1"
   ]
  },
  {
   "cell_type": "markdown",
   "metadata": {},
   "source": [
    "## Development\n",
    "\n",
    "An overview of the subpackages in this library:\n",
    "\n",
    "`models`: TTS model implementations. All models descend from `models.base.TTSModel`.\n",
    "\n",
    "`trainer`: A trainer has logic for training a model.\n",
    "\n",
    "`exec`: Contains entrypoint scripts for running training jobs. Executed via a command like\n",
    "`python -m uberduck_ml_dev.exec.train_tacotron2 --your-args here`"
   ]
  },
  {
   "cell_type": "code",
   "execution_count": null,
   "metadata": {},
   "outputs": [],
   "source": []
  }
 ],
 "metadata": {
  "kernelspec": {
   "display_name": "Python 3",
   "language": "python",
   "name": "python3"
  }
 },
 "nbformat": 4,
 "nbformat_minor": 2
}
