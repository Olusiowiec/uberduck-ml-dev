{
 "cells": [
  {
   "cell_type": "code",
   "execution_count": null,
   "id": "98c5a1e6",
   "metadata": {},
   "outputs": [],
   "source": [
    "# default_exp text.symbols_taco2nvidia"
   ]
  },
  {
   "cell_type": "code",
   "execution_count": null,
   "id": "8c5b99e7",
   "metadata": {},
   "outputs": [],
   "source": []
  },
  {
   "cell_type": "code",
   "execution_count": null,
   "id": "8a69fea6",
   "metadata": {},
   "outputs": [],
   "source": [
    "# export\n",
    "\"\"\" from https://github.com/keithito/tacotron \"\"\"\n",
    "\n",
    "\"\"\"\n",
    "Defines the set of symbols used in text input to the model.\n",
    "The default is a set of ASCII characters that works well for English or text that has been run through Unidecode. For other data, you can modify _characters. See TRAINING_DATA.md for details. \"\"\"\n",
    "# from text import cmudict\n",
    "from uberduck_ml_dev.text import cmudict\n",
    "\n",
    "_pad = \"_\"\n",
    "_punctuation = \"!'(),.:;? \"\n",
    "_special = \"-\"\n",
    "_letters = \"ABCDEFGHIJKLMNOPQRSTUVWXYZabcdefghijklmnopqrstuvwxyz\"\n",
    "\n",
    "# Prepend \"@\" to ARPAbet symbols to ensure uniqueness (some are the same as uppercase letters):\n",
    "_arpabet = [\"@\" + s for s in cmudict.valid_symbols]\n",
    "\n",
    "# Export all symbols:\n",
    "symbols = [_pad] + list(_special) + list(_punctuation) + list(_letters) + _arpabet"
   ]
  }
 ],
 "metadata": {
  "kernelspec": {
   "display_name": "Python [conda env:root] *",
   "language": "python",
   "name": "conda-root-py"
  }
 },
 "nbformat": 4,
 "nbformat_minor": 5
}
