{
 "cells": [
  {
   "cell_type": "code",
   "execution_count": null,
   "id": "1675bdc4",
   "metadata": {},
   "outputs": [],
   "source": [
    "# default_exp data.batch"
   ]
  },
  {
   "cell_type": "code",
   "execution_count": null,
   "id": "2e470057",
   "metadata": {},
   "outputs": [],
   "source": [
    "# export\n",
    "from dataclasses import dataclass\n",
    "import torch\n",
    "from typing import NamedTuple, Optional, List\n",
    "\n",
    "\n",
    "class Batch(NamedTuple):\n",
    "\n",
    "    text_int_padded: Optional[torch.Tensor] = None\n",
    "    input_lengths: List = None\n",
    "    mel_padded: Optional[torch.Tensor] = None\n",
    "    gate_pred: List = None\n",
    "    output_lengths: List = None\n",
    "    speaker_ids: List = None\n",
    "    f0_padded: List = None\n",
    "    gst: Optional[torch.Tensor] = None\n",
    "    durations_padded: Optional[torch.Tensor] = None\n",
    "    max_len: Optional[int] = None\n",
    "    mel_outputs: Optional[torch.Tensor] = None\n",
    "    mel_outputs_postnet: Optional[torch.Tensor] = None\n",
    "    gate_target: Optional[torch.Tensor] = None\n",
    "    alignments: Optional[torch.Tensor] = None\n",
    "    predicted_durations: Optional[torch.Tensor] = None\n",
    "    text: List = None"
   ]
  },
  {
   "cell_type": "code",
   "execution_count": null,
   "id": "d3baf0cf",
   "metadata": {},
   "outputs": [],
   "source": [
    "batch = Batch(torch.tensor([]), [], torch.tensor([]), [], [], [], [], torch.tensor([]))\n",
    "assert batch.durations_padded is None\n",
    "assert batch.max_len is None\n",
    "batch = Batch(\n",
    "    torch.tensor([]), [], torch.tensor([]), [], [], [], [], torch.tensor([]), max_len=4\n",
    ")\n",
    "assert batch.max_len == 4"
   ]
  },
  {
   "cell_type": "code",
   "execution_count": null,
   "id": "2d8eb1ca",
   "metadata": {},
   "outputs": [],
   "source": [
    "# mel_outputs = mel_outputs,\n",
    "#                             mel_outputs_postnet = mel_outputs_postnet,\n",
    "#                             gate_outputs= gate_outputs,\n",
    "#                             output_lengths= output_lengths,\n",
    "#                             alignments= alignments\n",
    "#                               )\n",
    "\n",
    "#         if self.non_attentive:\n",
    "#             output_raw = Batch(predicted_durations = predicted_durations,\n",
    "#                               predicted_mel_specs= mel_outputs,\n",
    "#                               mel_outputs_postnet = mel_outputs_postnet)"
   ]
  }
 ],
 "metadata": {
  "kernelspec": {
   "display_name": "Python [conda env:root] *",
   "language": "python",
   "name": "conda-root-py"
  },
  "language_info": {
   "codemirror_mode": {
    "name": "ipython",
    "version": 3
   },
   "file_extension": ".py",
   "mimetype": "text/x-python",
   "name": "python",
   "nbconvert_exporter": "python",
   "pygments_lexer": "ipython3",
   "version": "3.7.10"
  }
 },
 "nbformat": 4,
 "nbformat_minor": 5
}
