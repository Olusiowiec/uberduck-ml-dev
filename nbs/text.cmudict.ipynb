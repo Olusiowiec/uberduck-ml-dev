{
 "cells": [
  {
   "cell_type": "markdown",
   "id": "6944ba7a",
   "metadata": {},
   "source": [
    "<h1>Table of Contents<span class=\"tocSkip\"></span></h1>\n",
    "<div class=\"toc\"><ul class=\"toc-item\"></ul></div>"
   ]
  },
  {
   "cell_type": "code",
   "execution_count": null,
   "id": "a22e9867",
   "metadata": {},
   "outputs": [],
   "source": [
    "#default_exp text.cmudict"
   ]
  },
  {
   "cell_type": "code",
   "execution_count": null,
   "id": "632fd63e",
   "metadata": {},
   "outputs": [],
   "source": [
    "#export\n",
    "\n",
    "\"\"\" from https://github.com/keithito/tacotron \"\"\"\n",
    "\n",
    "import re\n",
    "\n",
    "\n",
    "valid_symbols = [\n",
    "  'AA', 'AA0', 'AA1', 'AA2', 'AE', 'AE0', 'AE1', 'AE2', 'AH', 'AH0', 'AH1', 'AH2',\n",
    "  'AO', 'AO0', 'AO1', 'AO2', 'AW', 'AW0', 'AW1', 'AW2', 'AY', 'AY0', 'AY1', 'AY2',\n",
    "  'B', 'CH', 'D', 'DH', 'EH', 'EH0', 'EH1', 'EH2', 'ER', 'ER0', 'ER1', 'ER2', 'EY',\n",
    "  'EY0', 'EY1', 'EY2', 'F', 'G', 'HH', 'IH', 'IH0', 'IH1', 'IH2', 'IY', 'IY0', 'IY1',\n",
    "  'IY2', 'JH', 'K', 'L', 'M', 'N', 'NG', 'OW', 'OW0', 'OW1', 'OW2', 'OY', 'OY0',\n",
    "  'OY1', 'OY2', 'P', 'R', 'S', 'SH', 'T', 'TH', 'UH', 'UH0', 'UH1', 'UH2', 'UW',\n",
    "  'UW0', 'UW1', 'UW2', 'V', 'W', 'Y', 'Z', 'ZH'\n",
    "]\n",
    "\n",
    "_valid_symbol_set = set(valid_symbols)\n",
    "\n",
    "\n",
    "class CMUDict:\n",
    "  '''Thin wrapper around CMUDict data. http://www.speech.cs.cmu.edu/cgi-bin/cmudict'''\n",
    "  def __init__(self, file_or_path, keep_ambiguous=True):\n",
    "    if isinstance(file_or_path, str):\n",
    "      with open(file_or_path, encoding='latin-1') as f:\n",
    "        entries = _parse_cmudict(f)\n",
    "    else:\n",
    "      entries = _parse_cmudict(file_or_path)\n",
    "    if not keep_ambiguous:\n",
    "      entries = {word: pron for word, pron in entries.items() if len(pron) == 1}\n",
    "    self._entries = entries\n",
    "\n",
    "\n",
    "  def __len__(self):\n",
    "    return len(self._entries)\n",
    "\n",
    "\n",
    "  def lookup(self, word):\n",
    "    '''Returns list of ARPAbet pronunciations of the given word.'''\n",
    "    return self._entries.get(word.upper())\n",
    "\n",
    "\n",
    "\n",
    "_alt_re = re.compile(r'\\([0-9]+\\)')\n",
    "\n",
    "\n",
    "def _parse_cmudict(file):\n",
    "  cmudict = {}\n",
    "  for line in file:\n",
    "    if len(line) and (line[0] >= 'A' and line[0] <= 'Z' or line[0] == \"'\"):\n",
    "      parts = line.split('  ')\n",
    "      word = re.sub(_alt_re, '', parts[0])\n",
    "      pronunciation = _get_pronunciation(parts[1])\n",
    "      if pronunciation:\n",
    "        if word in cmudict:\n",
    "          cmudict[word].append(pronunciation)\n",
    "        else:\n",
    "          cmudict[word] = [pronunciation]\n",
    "  return cmudict\n",
    "\n",
    "\n",
    "def _get_pronunciation(s):\n",
    "  parts = s.strip().split(' ')\n",
    "  for part in parts:\n",
    "    if part not in _valid_symbol_set:\n",
    "      return None\n",
    "  return ' '.join(parts)"
   ]
  },
  {
   "cell_type": "code",
   "execution_count": null,
   "id": "9db1efbc",
   "metadata": {},
   "outputs": [],
   "source": []
  }
 ],
 "metadata": {
  "kernelspec": {
   "display_name": "Python 3",
   "language": "python",
   "name": "python3"
  }
 },
 "nbformat": 4,
 "nbformat_minor": 5
}
