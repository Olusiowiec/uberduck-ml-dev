{
 "cells": [
  {
   "cell_type": "markdown",
   "id": "53479aac",
   "metadata": {},
   "source": [
    "<h1>Table of Contents<span class=\"tocSkip\"></span></h1>\n",
    "<div class=\"toc\"><ul class=\"toc-item\"><li><span><a href=\"#uberduck_ml_dev.exec.generate_filelist\" data-toc-modified-id=\"uberduck_ml_dev.exec.generate_filelist-1\"><span class=\"toc-item-num\">1&nbsp;&nbsp;</span>uberduck_ml_dev.exec.generate_filelist</a></span><ul class=\"toc-item\"><li><ul class=\"toc-item\"><li><span><a href=\"#Supported-formats:\" data-toc-modified-id=\"Supported-formats:-1.0.1\"><span class=\"toc-item-num\">1.0.1&nbsp;&nbsp;</span>Supported formats:</a></span></li><li><span><a href=\"#standard-multispeaker\" data-toc-modified-id=\"standard-multispeaker-1.0.2\"><span class=\"toc-item-num\">1.0.2&nbsp;&nbsp;</span><code>standard-multispeaker</code></a></span></li><li><span><a href=\"#vctk\" data-toc-modified-id=\"vctk-1.0.3\"><span class=\"toc-item-num\">1.0.3&nbsp;&nbsp;</span><code>vctk</code></a></span></li></ul></li></ul></li></ul></div>"
   ]
  },
  {
   "cell_type": "markdown",
   "id": "85a5a06b",
   "metadata": {},
   "source": [
    "<h1>Table of Contents<span class=\"tocSkip\"></span></h1>\n",
    "<div class=\"toc\"><ul class=\"toc-item\"><li><span><a href=\"#uberduck_ml_dev.exec.generate_filelist\" data-toc-modified-id=\"uberduck_ml_dev.exec.generate_filelist-1\"><span class=\"toc-item-num\">1&nbsp;&nbsp;</span>uberduck_ml_dev.exec.generate_filelist</a></span><ul class=\"toc-item\"><li><ul class=\"toc-item\"><li><span><a href=\"#Supported-formats:\" data-toc-modified-id=\"Supported-formats:-1.0.1\"><span class=\"toc-item-num\">1.0.1&nbsp;&nbsp;</span>Supported formats:</a></span></li><li><span><a href=\"#standard-multispeaker\" data-toc-modified-id=\"standard-multispeaker-1.0.2\"><span class=\"toc-item-num\">1.0.2&nbsp;&nbsp;</span><code>standard-multispeaker</code></a></span></li><li><span><a href=\"#vctk\" data-toc-modified-id=\"vctk-1.0.3\"><span class=\"toc-item-num\">1.0.3&nbsp;&nbsp;</span><code>vctk</code></a></span></li></ul></li></ul></li></ul></div>"
   ]
  },
  {
   "cell_type": "markdown",
   "id": "0a6d75eb",
   "metadata": {},
   "source": [
    "<h1>Table of Contents<span class=\"tocSkip\"></span></h1>\n",
    "<div class=\"toc\"><ul class=\"toc-item\"><li><span><a href=\"#uberduck_ml_dev.exec.generate_filelist\" data-toc-modified-id=\"uberduck_ml_dev.exec.generate_filelist-1\"><span class=\"toc-item-num\">1&nbsp;&nbsp;</span>uberduck_ml_dev.exec.generate_filelist</a></span><ul class=\"toc-item\"><li><ul class=\"toc-item\"><li><span><a href=\"#Supported-formats:\" data-toc-modified-id=\"Supported-formats:-1.0.1\"><span class=\"toc-item-num\">1.0.1&nbsp;&nbsp;</span>Supported formats:</a></span></li><li><span><a href=\"#standard-multispeaker\" data-toc-modified-id=\"standard-multispeaker-1.0.2\"><span class=\"toc-item-num\">1.0.2&nbsp;&nbsp;</span><code>standard-multispeaker</code></a></span></li><li><span><a href=\"#vctk\" data-toc-modified-id=\"vctk-1.0.3\"><span class=\"toc-item-num\">1.0.3&nbsp;&nbsp;</span><code>vctk</code></a></span></li></ul></li></ul></li></ul></div>"
   ]
  },
  {
   "cell_type": "code",
   "execution_count": null,
   "id": "6d4adc17",
   "metadata": {},
   "outputs": [],
   "source": [
    "# default_exp exec.generate_filelist"
   ]
  },
  {
   "cell_type": "markdown",
   "id": "8a33930d",
   "metadata": {},
   "source": [
    "# uberduck_ml_dev.exec.generate_filelist"
   ]
  },
  {
   "cell_type": "markdown",
   "id": "21d6e44c",
   "metadata": {},
   "source": [
    "Convert a speech dataset to the standard dataset format.\n",
    "\n",
    "Usage:\n",
    "\n",
    "```\n",
    "python -m uberduck_ml_dev.exec.generate_filelist \\\n",
    "    --input ~/multispeaker-root \\\n",
    "    --format standard-multispeaker \\\n",
    "    --ouput list.txt\n",
    "```\n",
    "\n",
    "### Supported formats:\n",
    "\n",
    "### `standard-multispeaker`\n",
    "\n",
    "```\n",
    "root\n",
    "  speaker1\n",
    "    list.txt\n",
    "    wavs\n",
    "  speaker2\n",
    "    list.txt\n",
    "    wavs\n",
    "```\n",
    "\n",
    "### `vctk`\n",
    "\n",
    "Format of the VCTK dataset as downloaded from the [University of Edinburgh](https://datashare.ed.ac.uk/handle/10283/3443).\n",
    "\n",
    "```\n",
    "root\n",
    "  wav48_silence_trimmed\n",
    "    p228\n",
    "      p228_166_mic1.flac\n",
    "      ...\n",
    "  txt\n",
    "    p228\n",
    "      p228_166.txt\n",
    "      ...\n",
    "```\n",
    "\n",
    "\n",
    "\n",
    "\n",
    "\n"
   ]
  },
  {
   "cell_type": "code",
   "execution_count": null,
   "id": "45c9d7c8",
   "metadata": {},
   "outputs": [],
   "source": [
    "# export\n",
    "\n",
    "import argparse\n",
    "import os\n",
    "from pathlib import Path\n",
    "\n",
    "import sqlite3\n",
    "from tqdm import tqdm\n",
    "\n",
    "from uberduck_ml_dev.utils.utils import parse_vctk\n",
    "\n",
    "CACHE_LOCATION = Path.home() / Path(\".cache/uberduck/uberduck-ml-dev.db\")\n",
    "\n",
    "STANDARD_MULTISPEAKER = \"standard-multispeaker\"\n",
    "STANDARD_SINGLESPEAKER = \"standard-singlespeaker\"\n",
    "VCTK = \"vctk\"\n",
    "FORMATS = [\n",
    "    STANDARD_MULTISPEAKER,\n",
    "    STANDARD_SINGLESPEAKER,\n",
    "    VCTK,\n",
    "]\n",
    "\n",
    "\n",
    "def _init_speaker_table():\n",
    "    if not CACHE_LOCATION.parent.exists():\n",
    "        os.makedirs(CACHE_LOCATION.parent)\n",
    "    conn = sqlite3.connect(str(CACHE_LOCATION))\n",
    "    with conn:\n",
    "        conn.execute(\n",
    "            \"CREATE TABLE IF NOT EXISTS speakers (filepath TEXT, name TEXT, speaker_id INT)\"\n",
    "        )\n",
    "        conn.execute(\n",
    "            \"CREATE UNIQUE INDEX IF NOT EXISTS name_speaker_id_idx ON speakers(filepath, name, speaker_id)\"\n",
    "        )\n",
    "\n",
    "\n",
    "def _convert_vctk(f, inp: str):\n",
    "    vctk_data = parse_vctk(inp)\n",
    "    speaker_id = 0\n",
    "    conn = sqlite3.connect(str(CACHE_LOCATION))\n",
    "    with conn:\n",
    "        for speaker_name, speaker_data in tqdm(vctk_data.items()):\n",
    "            conn.execute(\n",
    "                \"INSERT OR REPLACE INTO speakers VALUES (?, ?, ?)\",\n",
    "                (f.name, speaker_name, speaker_id),\n",
    "            )\n",
    "            speaker_out_path = Path(out_path) / speaker_name\n",
    "            if not speaker_out_path.exists():\n",
    "                os.makedirs(speaker_out_path)\n",
    "            for transcription, flac_path in speaker_data:\n",
    "                assert flac_path.endswith(\".flac\")\n",
    "                wav_path = flac_path.replace(\".flac\", \".wav\")\n",
    "                convert_to_wav(flac_path, wav_path)\n",
    "                full_path = Path(full_path).resolve()\n",
    "                f.write(f\"{full_path}|{transcription}|{speaker_id}\\n\")\n",
    "            speaker_id += 1\n",
    "\n",
    "\n",
    "def _convert_standard_multispeaker(f, inp: str):\n",
    "    speaker_id = 0\n",
    "    speakers = os.listdir(inp)\n",
    "    conn = sqlite3.connect(str(CACHE_LOCATION))\n",
    "    with conn:\n",
    "        for speaker in tqdm(speakers):\n",
    "            path = Path(inp) / Path(speaker)\n",
    "            if not path.is_dir() or path.parts[-1].startswith(\".\"):\n",
    "                continue\n",
    "            files = os.listdir(path)\n",
    "            try:\n",
    "                transcriptions, *_ = [f for f in files if f.endswith(\".txt\")]\n",
    "            except:\n",
    "                print(files)\n",
    "                raise\n",
    "            conn.execute(\n",
    "                \"INSERT OR REPLACE INTO speakers VALUES (?, ?, ?)\",\n",
    "                (f.name, speaker, speaker_id),\n",
    "            )\n",
    "            with (path / transcriptions).open(\"r\") as txn_f:\n",
    "                transcriptions = txn_f.readlines()\n",
    "            for line in transcriptions:\n",
    "                line = line.strip(\"\\n\")\n",
    "                try:\n",
    "                    line_path, line_txn, *_ = line.split(\"|\")\n",
    "                except Exception as e:\n",
    "                    print(e)\n",
    "                    print(line)\n",
    "                    raise\n",
    "                full_path = (path / line_path).resolve()\n",
    "                f.write(f\"{full_path}|{line_txn}|{speaker_id}\\n\")\n",
    "            speaker_id += 1\n",
    "\n",
    "\n",
    "def _generate_filelist(input_dataset, fmt, output_filelist):\n",
    "    full_path = Path(output_filelist).resolve()\n",
    "    _init_speaker_table()\n",
    "    with open(full_path, \"w\") as f:\n",
    "        print(f.name)\n",
    "        _convert_to_multispeaker(f, input_dataset, fmt)\n",
    "\n",
    "\n",
    "def _convert_to_multispeaker(f, inp: str, fmt: str):\n",
    "    assert fmt in [\n",
    "        STANDARD_MULTISPEAKER,\n",
    "        VCTK,\n",
    "    ], f\"Supported formats: {STANDARD_MULTISPEAKER}, {VCTK}\"\n",
    "\n",
    "    if fmt == STANDARD_MULTISPEAKER:\n",
    "        return _convert_standard_multispeaker(f, inp)\n",
    "    elif fmt == VCTK:\n",
    "        return _convert_vctk(f, inp)"
   ]
  },
  {
   "cell_type": "code",
   "execution_count": null,
   "id": "e1170838",
   "metadata": {},
   "outputs": [
    {
     "data": {
      "text/plain": [
       "True"
      ]
     },
     "execution_count": null,
     "metadata": {},
     "output_type": "execute_result"
    }
   ],
   "source": [
    "CACHE_LOCATION.parent.exists()"
   ]
  },
  {
   "cell_type": "code",
   "execution_count": null,
   "id": "18e76aef",
   "metadata": {},
   "outputs": [],
   "source": [
    "# export\n",
    "\n",
    "from typing import List\n",
    "import sys\n",
    "\n",
    "\n",
    "def _parse_args(args: List[str]):\n",
    "    parser = argparse.ArgumentParser()\n",
    "    parser.add_argument(\"-i\", \"--input\", help=\"Path to input dataset directory\")\n",
    "    parser.add_argument(\n",
    "        \"-f\", \"--format\", help=\"Input dataset format\", default=STANDARD_MULTISPEAKER\n",
    "    )\n",
    "    parser.add_argument(\"-o\", \"--output\", help=\"asdf\", default=\"list.txt\")\n",
    "    return parser.parse_args(args)\n",
    "\n",
    "\n",
    "try:\n",
    "    from nbdev.imports import IN_NOTEBOOK\n",
    "except:\n",
    "    IN_NOTEBOOK = False\n",
    "\n",
    "if __name__ == \"__main__\" and not IN_NOTEBOOK:\n",
    "    args = _parse_args(sys.argv[1:])\n",
    "    _generate_filelist(args.input, args.format, args.output)"
   ]
  },
  {
   "cell_type": "code",
   "execution_count": null,
   "id": "3b1b940e",
   "metadata": {},
   "outputs": [
    {
     "data": {
      "text/plain": [
       "Namespace(format='standard-multispeaker', input='foo/bar', output='list.txt')"
      ]
     },
     "execution_count": null,
     "metadata": {},
     "output_type": "execute_result"
    }
   ],
   "source": [
    "# hide\n",
    "_parse_args([\"-i\", \"foo/bar\"])"
   ]
  },
  {
   "cell_type": "code",
   "execution_count": null,
   "id": "c9499f80",
   "metadata": {},
   "outputs": [
    {
     "name": "stderr",
     "output_type": "stream",
     "text": [
      "  7%|▋         | 6/81 [00:00<00:01, 57.52it/s]"
     ]
    },
    {
     "name": "stdout",
     "output_type": "stream",
     "text": [
      "/private/var/folders/9n/w8qrq4mx4cl_j036z8wg_9nh0000gp/T/tmpngc5ae7i\n"
     ]
    },
    {
     "name": "stderr",
     "output_type": "stream",
     "text": [
      "100%|██████████| 81/81 [00:00<00:00, 103.00it/s]\n",
      "100%|██████████| 81/81 [00:00<00:00, 114.02it/s]\n"
     ]
    }
   ],
   "source": [
    "from tempfile import NamedTemporaryFile, TemporaryFile\n",
    "\n",
    "with NamedTemporaryFile(\"w\") as f:\n",
    "    _generate_filelist(\n",
    "        str(Path(\"/Users/zwf/data/voice/dvc-managed/uberduck-multispeaker/\").resolve()),\n",
    "        \"standard-multispeaker\",\n",
    "        f.name,\n",
    "    )\n",
    "\n",
    "with TemporaryFile(\"w\") as f:\n",
    "    _convert_to_multispeaker(\n",
    "        f,\n",
    "        str(Path(\"/Users/zwf/data/voice/dvc-managed/uberduck-multispeaker/\").resolve()),\n",
    "        \"standard-multispeaker\",\n",
    "    )"
   ]
  },
  {
   "cell_type": "code",
   "execution_count": null,
   "id": "c20994ec",
   "metadata": {},
   "outputs": [],
   "source": [
    "os.makedirs"
   ]
  },
  {
   "cell_type": "code",
   "execution_count": null,
   "id": "b8fe2c66",
   "metadata": {},
   "outputs": [],
   "source": []
  }
 ],
 "metadata": {
  "kernelspec": {
   "display_name": "Python 3",
   "language": "python",
   "name": "python3"
  }
 },
 "nbformat": 4,
 "nbformat_minor": 5
}
