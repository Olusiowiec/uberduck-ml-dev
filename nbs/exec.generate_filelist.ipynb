{
 "cells": [
  {
   "cell_type": "markdown",
   "id": "65b05be6",
   "metadata": {},
   "source": [
    "<h1>Table of Contents<span class=\"tocSkip\"></span></h1>\n",
    "<div class=\"toc\"><ul class=\"toc-item\"><li><span><a href=\"#uberduck_ml_dev.exec.generate_filelist\" data-toc-modified-id=\"uberduck_ml_dev.exec.generate_filelist-1\"><span class=\"toc-item-num\">1&nbsp;&nbsp;</span>uberduck_ml_dev.exec.generate_filelist</a></span><ul class=\"toc-item\"><li><ul class=\"toc-item\"><li><span><a href=\"#Supported-formats:\" data-toc-modified-id=\"Supported-formats:-1.0.1\"><span class=\"toc-item-num\">1.0.1&nbsp;&nbsp;</span>Supported formats:</a></span></li><li><span><a href=\"#standard-multispeaker\" data-toc-modified-id=\"standard-multispeaker-1.0.2\"><span class=\"toc-item-num\">1.0.2&nbsp;&nbsp;</span><code>standard-multispeaker</code></a></span></li><li><span><a href=\"#vctk\" data-toc-modified-id=\"vctk-1.0.3\"><span class=\"toc-item-num\">1.0.3&nbsp;&nbsp;</span><code>vctk</code></a></span></li></ul></li></ul></li></ul></div>"
   ]
  },
  {
   "cell_type": "code",
   "execution_count": null,
   "id": "6d4adc17",
   "metadata": {},
   "outputs": [],
   "source": [
    "# default_exp exec.generate_filelist"
   ]
  },
  {
   "cell_type": "markdown",
   "id": "8a33930d",
   "metadata": {},
   "source": [
    "# uberduck_ml_dev.exec.generate_filelist"
   ]
  },
  {
   "cell_type": "markdown",
   "id": "21d6e44c",
   "metadata": {},
   "source": [
    "Convert a speech dataset to the standard dataset format.\n",
    "\n",
    "Usage:\n",
    "\n",
    "```\n",
    "python -m uberduck_ml_dev.exec.generate_filelist \\\n",
    "    --input ~/multispeaker-root \\\n",
    "    --format standard-multispeaker \\\n",
    "    --ouput list.txt\n",
    "```\n",
    "\n",
    "### Supported formats:\n",
    "\n",
    "### `standard-multispeaker`\n",
    "\n",
    "```\n",
    "root\n",
    "  speaker1\n",
    "    list.txt\n",
    "    wavs\n",
    "  speaker2\n",
    "    list.txt\n",
    "    wavs\n",
    "```\n",
    "\n",
    "### `vctk`\n",
    "\n",
    "Format of the VCTK dataset as downloaded from the [University of Edinburgh](https://datashare.ed.ac.uk/handle/10283/3443).\n",
    "\n",
    "```\n",
    "root\n",
    "  wav48_silence_trimmed\n",
    "    p228\n",
    "      p228_166_mic1.flac\n",
    "      ...\n",
    "  txt\n",
    "    p228\n",
    "      p228_166.txt\n",
    "      ...\n",
    "```\n",
    "\n",
    "\n",
    "\n",
    "\n",
    "\n"
   ]
  },
  {
   "cell_type": "code",
   "execution_count": 2,
   "id": "45c9d7c8",
   "metadata": {},
   "outputs": [],
   "source": [
    "# export\n",
    "\n",
    "import argparse\n",
    "import os\n",
    "from pathlib import Path\n",
    "\n",
    "import sqlite3\n",
    "from tqdm import tqdm\n",
    "import pandas as pd\n",
    "\n",
    "from uberduck_ml_dev.data.cache import ensure_speaker_table, insert_speaker\n",
    "from uberduck_ml_dev.utils.utils import parse_vctk\n",
    "\n",
    "CACHE_LOCATION = Path.home() / Path(\".cache/uberduck/uberduck-ml-dev.db\")\n",
    "\n",
    "STANDARD_MULTISPEAKER = \"standard-multispeaker\"\n",
    "STANDARD_SINGLESPEAKER = \"standard-singlespeaker\"\n",
    "VCTK = \"vctk\"\n",
    "FORMATS = [\n",
    "    STANDARD_MULTISPEAKER,\n",
    "    STANDARD_SINGLESPEAKER,\n",
    "    VCTK,\n",
    "]\n",
    "\n",
    "\n",
    "def _convert_vctk(f, inp: str):\n",
    "    vctk_data = parse_vctk(inp)\n",
    "    speaker_id = 0\n",
    "    conn = sqlite3.connect(str(CACHE_LOCATION))\n",
    "    with conn:\n",
    "        for speaker_name, speaker_data in tqdm(vctk_data.items()):\n",
    "            insert_speaker(f.name, speaker_name, speaker_id, conn)\n",
    "            speaker_out_path = Path(out_path) / speaker_name\n",
    "            if not speaker_out_path.exists():\n",
    "                os.makedirs(speaker_out_path)\n",
    "            for transcription, flac_path in speaker_data:\n",
    "                assert flac_path.endswith(\".flac\")\n",
    "                wav_path = flac_path.replace(\".flac\", \".wav\")\n",
    "                convert_to_wav(flac_path, wav_path)\n",
    "                full_path = Path(full_path).resolve()\n",
    "                f.write(f\"{full_path}|{transcription}|{speaker_id}\\n\")\n",
    "            speaker_id += 1\n",
    "\n",
    "\n",
    "def _convert_standard_multispeaker(f, inp: str):\n",
    "    speaker_id = 0\n",
    "    speakers = os.listdir(inp)\n",
    "    conn = sqlite3.connect(str(CACHE_LOCATION))\n",
    "    with conn:\n",
    "        for speaker in tqdm(speakers):\n",
    "            path = Path(inp) / Path(speaker)\n",
    "            if not path.is_dir() or path.parts[-1].startswith(\".\"):\n",
    "                continue\n",
    "            files = os.listdir(path)\n",
    "            try:\n",
    "                transcriptions, *_ = [f for f in files if f.endswith(\".txt\")]\n",
    "            except:\n",
    "                print(files)\n",
    "                raise\n",
    "            insert_speaker(f.name, speaker, speaker_id, conn)\n",
    "            with (path / transcriptions).open(\"r\") as txn_f:\n",
    "                transcriptions = txn_f.readlines()\n",
    "            for line in transcriptions:\n",
    "                line = line.strip(\"\\n\")\n",
    "                try:\n",
    "                    line_path, line_txn, *_ = line.split(\"|\")\n",
    "                except Exception as e:\n",
    "                    print(e)\n",
    "                    print(line)\n",
    "                    raise\n",
    "                full_path = (path / line_path).resolve()\n",
    "                f.write(f\"{full_path}|{line_txn}|{speaker_id}\\n\")\n",
    "            speaker_id += 1\n",
    "\n",
    "\n",
    "def _convert_standard_multispeaker_rel(f, inp: str, rel_path: str):\n",
    "    speaker_id = 0\n",
    "    speakers = os.listdir(inp)\n",
    "    print(speakers)\n",
    "    conn = sqlite3.connect(str(CACHE_LOCATION))\n",
    "    with conn:\n",
    "        for speaker in tqdm(speakers):\n",
    "            path = Path(inp) / Path(speaker)\n",
    "            if not path.is_dir() or path.parts[-1].startswith(\".\"):\n",
    "                continue\n",
    "            print(speaker)\n",
    "            files = os.listdir(path)\n",
    "\n",
    "            try:\n",
    "                transcriptions, *_ = [f for f in files if f.endswith(\".txt\")]\n",
    "            except:\n",
    "                print(files)\n",
    "                raise\n",
    "            insert_speaker(f.name, speaker, speaker_id, conn)\n",
    "            with (path / transcriptions).open(\"r\") as txn_f:\n",
    "                transcriptions = txn_f.readlines()\n",
    "            for line in transcriptions:\n",
    "                line = line.strip(\"\\n\")\n",
    "                try:\n",
    "                    line_path, line_txn, *_ = line.split(\"|\")\n",
    "                except Exception as e:\n",
    "                    print(e)\n",
    "                    print(line)\n",
    "                    raise\n",
    "                write_path = f\"{rel_path}/{speaker}/{line_path}\"\n",
    "                f.write(f\"{write_path}|{line_txn}|{speaker_id}\\n\")\n",
    "            speaker_id += 1\n",
    "\n",
    "\n",
    "def _generate_filelist(input_dataset, fmt, output_filelist):\n",
    "    full_path = Path(output_filelist).resolve()\n",
    "    ensure_speaker_table()\n",
    "    with open(full_path, \"w\") as f:\n",
    "        print(f.name)\n",
    "        _convert_to_multispeaker(f, input_dataset, fmt)\n",
    "\n",
    "\n",
    "def _generate_filelist_rel(input_dataset, output_filelist, rel_path):\n",
    "    full_path = Path(output_filelist).resolve()\n",
    "    ensure_speaker_table()\n",
    "    with open(full_path, \"w\") as f:\n",
    "        print(f.name)\n",
    "        _convert_standard_multispeaker_rel(f, input_dataset, rel_path)\n",
    "\n",
    "\n",
    "def _convert_to_multispeaker(f, inp: str, fmt: str):\n",
    "    assert fmt in [\n",
    "        STANDARD_MULTISPEAKER,\n",
    "        VCTK,\n",
    "    ], f\"Supported formats: {STANDARD_MULTISPEAKER}, {VCTK}\"\n",
    "\n",
    "    if fmt == STANDARD_MULTISPEAKER:\n",
    "        return _convert_standard_multispeaker(f, inp)\n",
    "    elif fmt == VCTK:\n",
    "        return _convert_vctk(f, inp)"
   ]
  },
  {
   "cell_type": "code",
   "execution_count": 3,
   "id": "e96f4a2f",
   "metadata": {},
   "outputs": [
    {
     "data": {
      "text/plain": [
       "True"
      ]
     },
     "execution_count": 3,
     "metadata": {},
     "output_type": "execute_result"
    }
   ],
   "source": [
    "CACHE_LOCATION.parent.exists()"
   ]
  },
  {
   "cell_type": "code",
   "execution_count": 33,
   "id": "18e76aef",
   "metadata": {},
   "outputs": [],
   "source": [
    "# export\n",
    "\n",
    "from typing import List\n",
    "import sys\n",
    "\n",
    "\n",
    "def _parse_args(args: List[str]):\n",
    "    parser = argparse.ArgumentParser()\n",
    "    parser.add_argument(\"-i\", \"--input\", help=\"Path to input dataset directory\")\n",
    "    parser.add_argument(\n",
    "        \"-f\", \"--format\", help=\"Input dataset format\", default=STANDARD_MULTISPEAKER\n",
    "    )\n",
    "    parser.add_argument(\"-o\", \"--output\", help=\"asdf\", default=\"list.txt\")\n",
    "    parser.add_argument(\"--rel_path\", help=\"add relative path\", default=None)\n",
    "    return parser.parse_args(args)\n",
    "\n",
    "\n",
    "try:\n",
    "    from nbdev.imports import IN_NOTEBOOK\n",
    "except:\n",
    "    IN_NOTEBOOK = False\n",
    "\n",
    "if __name__ == \"__main__\" and not IN_NOTEBOOK:\n",
    "    args = _parse_args(sys.argv[1:])\n",
    "    if args.rel_path:\n",
    "        _generate_filelist_rel(\n",
    "            args.input, args.output, args.rel_path\n",
    "        )  # make this for vctk / synthesize\n",
    "    else:\n",
    "        _generate_filelist(args.input, args.format, args.output)"
   ]
  },
  {
   "cell_type": "code",
   "execution_count": 32,
   "id": "0a8edae3",
   "metadata": {},
   "outputs": [
    {
     "name": "stdout",
     "output_type": "stream",
     "text": [
      "['angelica', 'caesar', 'aether-genshin-impact', 'Parappa', 'Cow', 'cocoa-bandicoot', 'Chop_Chop_Master_Onion', 'Chicken', 'daisy-duck', 'benny', 'LICENSE', 'AshKetchum', '.dvc', 'CDiLink', 'kanye-rap', 'cersei', 'comic-book-guy', 'Chalmers', 'Daffy_Duck', 'brak', 'ClancyWiggum', 'avicii', 'Bubs', 'Bubble_Buddy', 'Blaze', 'cait', 'sam-lachow', 'command-conquer-eva', 'curie', 'Bubbles', 'big-gay-speaking', 'amy-rose', 'README.md', 'Chef', 'daenerys', 'Carl_Carlson', 'Bubsy', '.gitignore', 'CarolTea', 'eminem', 'b-la-b', 'KyleBrovlofski', 'CDiZelda', 'Numbuh1', 'Agnes_Skinner', 'Buttercup', 'DarkViperAU', 'relik-rapping', 'chihiro-fujisaki', 'bop-it-announcer', 'cream-the-rabbit', 'Adoring_Fan', 'cosmo', '.dvcignore', 'TAG', 'bullwinkle', '.git', 'big-gay-rapping', 'Carl_Wheezer', 'ideal-minded', 'jay-z', 'brother-bear', 'Blossom', 'alfur', 'BarneyGumble', 'jsxi', 'list.txt', 'Anne_Robinson', 'Candy_Cadet', 'da-games-singing', 'Chuckie_Finster', 'Barney', 'Baldi', 'TATII', 'cabal', 'brock-samson', 'Bender_Rodriguez', 'Copy_Protector', 'Coach_Z', 'bam_margera', 'CaptFussenpepper', 'Amethyst', 'eeyore', 'Mandark', 'Brain']\n"
     ]
    },
    {
     "name": "stderr",
     "output_type": "stream",
     "text": [
      "100%|████████████████████████████████████████████| 85/85 [00:00<00:00, 2190.21it/s]"
     ]
    },
    {
     "name": "stdout",
     "output_type": "stream",
     "text": [
      "angelica\n",
      "caesar\n",
      "aether-genshin-impact\n",
      "Parappa\n",
      "Cow\n",
      "cocoa-bandicoot\n",
      "Chop_Chop_Master_Onion\n",
      "Chicken\n",
      "daisy-duck\n",
      "benny\n",
      "AshKetchum\n",
      "CDiLink\n",
      "kanye-rap\n",
      "cersei\n",
      "comic-book-guy\n",
      "Chalmers\n",
      "Daffy_Duck\n",
      "brak\n",
      "ClancyWiggum\n",
      "avicii\n",
      "Bubs\n",
      "Bubble_Buddy\n",
      "Blaze\n",
      "cait\n",
      "sam-lachow\n",
      "command-conquer-eva\n",
      "curie\n",
      "Bubbles\n",
      "big-gay-speaking\n",
      "amy-rose\n",
      "Chef\n",
      "daenerys\n",
      "Carl_Carlson\n",
      "Bubsy\n",
      "CarolTea\n",
      "eminem\n",
      "b-la-b\n",
      "KyleBrovlofski\n",
      "CDiZelda\n",
      "Numbuh1\n",
      "Agnes_Skinner\n",
      "Buttercup\n",
      "DarkViperAU\n",
      "relik-rapping\n",
      "chihiro-fujisaki\n",
      "bop-it-announcer\n",
      "cream-the-rabbit\n",
      "Adoring_Fan\n",
      "cosmo\n",
      "TAG\n",
      "bullwinkle\n",
      "big-gay-rapping\n",
      "Carl_Wheezer\n",
      "ideal-minded\n",
      "jay-z\n",
      "brother-bear\n",
      "Blossom\n",
      "alfur\n",
      "BarneyGumble\n",
      "jsxi\n",
      "Anne_Robinson\n",
      "Candy_Cadet\n",
      "da-games-singing\n",
      "Chuckie_Finster\n",
      "Barney\n",
      "Baldi\n",
      "TATII\n",
      "cabal\n",
      "brock-samson\n",
      "Bender_Rodriguez\n",
      "Copy_Protector\n",
      "Coach_Z\n",
      "bam_margera\n",
      "CaptFussenpepper\n",
      "Amethyst\n",
      "eeyore\n",
      "Mandark\n",
      "Brain\n"
     ]
    },
    {
     "name": "stderr",
     "output_type": "stream",
     "text": [
      "\n"
     ]
    }
   ],
   "source": [
    "# output = '/mnt/disks/uberduck-experiments-v0/test2/asdf'\n",
    "# inp = '/mnt/disks/uberduck-experiments-v0/data/uberduck-multispeaker/'\n",
    "# # rel_path = 'asdf'\n",
    "# with open(output, \"w\") as f:\n",
    "#     _convert_standard_multispeaker_rel(f, inp, rel_path)"
   ]
  },
  {
   "cell_type": "code",
   "execution_count": null,
   "id": "3b1b940e",
   "metadata": {},
   "outputs": [
    {
     "data": {
      "text/plain": [
       "Namespace(format='standard-multispeaker', input='foo/bar', output='list.txt')"
      ]
     },
     "execution_count": null,
     "metadata": {},
     "output_type": "execute_result"
    }
   ],
   "source": [
    "# hide\n",
    "_parse_args([\"-i\", \"foo/bar\"])"
   ]
  },
  {
   "cell_type": "code",
   "execution_count": null,
   "id": "c9499f80",
   "metadata": {},
   "outputs": [
    {
     "name": "stderr",
     "output_type": "stream",
     "text": [
      "  5%|▍         | 4/85 [00:00<00:02, 35.22it/s]"
     ]
    },
    {
     "name": "stdout",
     "output_type": "stream",
     "text": [
      "/private/var/folders/9n/w8qrq4mx4cl_j036z8wg_9nh0000gp/T/tmp8xrrhl9s\n"
     ]
    },
    {
     "name": "stderr",
     "output_type": "stream",
     "text": [
      "100%|██████████| 85/85 [00:00<00:00, 94.09it/s] \n",
      "100%|██████████| 85/85 [00:00<00:00, 96.20it/s] \n"
     ]
    }
   ],
   "source": [
    "# skip\n",
    "from tempfile import NamedTemporaryFile, TemporaryFile\n",
    "\n",
    "with NamedTemporaryFile(\"w\") as f:\n",
    "    _generate_filelist(\n",
    "        str(Path(\"/Users/zwf/data/voice/dvc-managed/uberduck-multispeaker/\").resolve()),\n",
    "        \"standard-multispeaker\",\n",
    "        f.name,\n",
    "    )\n",
    "\n",
    "with TemporaryFile(\"w\") as f:\n",
    "    _convert_to_multispeaker(\n",
    "        f,\n",
    "        str(Path(\"/Users/zwf/data/voice/dvc-managed/uberduck-multispeaker/\").resolve()),\n",
    "        \"standard-multispeaker\",\n",
    "    )"
   ]
  }
 ],
 "metadata": {
  "kernelspec": {
   "display_name": "Python 3",
   "language": "python",
   "name": "python3"
  },
  "language_info": {
   "codemirror_mode": {
    "name": "ipython",
    "version": 3
   },
   "file_extension": ".py",
   "mimetype": "text/x-python",
   "name": "python",
   "nbconvert_exporter": "python",
   "pygments_lexer": "ipython3",
   "version": "3.7.10"
  }
 },
 "nbformat": 4,
 "nbformat_minor": 5
}
