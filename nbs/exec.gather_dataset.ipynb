{
 "cells": [
  {
   "cell_type": "markdown",
   "id": "a2d42774",
   "metadata": {},
   "source": [
    "<h1>Table of Contents<span class=\"tocSkip\"></span></h1>\n",
    "<div class=\"toc\"><ul class=\"toc-item\"><li><span><a href=\"#uberduck_ml_dev.exec.gather_dataset\" data-toc-modified-id=\"uberduck_ml_dev.exec.gather_dataset-1\"><span class=\"toc-item-num\">1&nbsp;&nbsp;</span>uberduck_ml_dev.exec.gather_dataset</a></span></li></ul></div>"
   ]
  },
  {
   "cell_type": "code",
   "execution_count": null,
   "id": "6d4adc17",
   "metadata": {},
   "outputs": [],
   "source": [
    "# default_exp exec.gather_dataset"
   ]
  },
  {
   "cell_type": "markdown",
   "id": "8a33930d",
   "metadata": {},
   "source": [
    "# uberduck_ml_dev.exec.gather_dataset"
   ]
  },
  {
   "cell_type": "markdown",
   "id": "21d6e44c",
   "metadata": {},
   "source": [
    "Create a zipped dataset from a filelist.\n",
    "\n",
    "Usage:\n",
    "\n",
    "```\n",
    "python -m uberduck_ml_dev.exec.gather_dataset \\\n",
    "    --input filelist.txt \\\n",
    "    --ouput out.zip\n",
    "```\n"
   ]
  },
  {
   "cell_type": "code",
   "execution_count": null,
   "id": "18e76aef",
   "metadata": {},
   "outputs": [],
   "source": [
    "# export\n",
    "\n",
    "import argparse\n",
    "import os\n",
    "from typing import List\n",
    "import sys\n",
    "from zipfile import ZipFile\n",
    "\n",
    "\n",
    "def _gather(filelist, output):\n",
    "    with open(filelist, \"r\") as f:\n",
    "        lines = f.readlines()\n",
    "    paths = [l.split(\"|\")[0] for l in lines]\n",
    "    common_prefix = os.path(paths)\n",
    "    archive_paths = []\n",
    "    for p in paths:\n",
    "        relpath = os.path.relpath(p, common_prefix)\n",
    "        archive_paths.append(relpath)\n",
    "    _, filelist_archive = os.path.split(filelist)\n",
    "    with ZipFile(output, \"w\") as zf:\n",
    "        zf.write(filelist, filelist_archive)\n",
    "        for path, archive_path in zip(paths, archive_paths):\n",
    "            zf.write(path, archive_path)\n",
    "\n",
    "\n",
    "def _parse_args(args: List[str]):\n",
    "    parser = argparse.ArgumentParser()\n",
    "    parser.add_argument(\"-i\", \"--input\", help=\"Path to input filelist\")\n",
    "    parser.add_argument(\n",
    "        \"-o\",\n",
    "        \"--output\",\n",
    "        help=\"Output zipfile\",\n",
    "        default=\"out.zip\",\n",
    "    )\n",
    "    return parser.parse_args(args)\n",
    "\n",
    "\n",
    "try:\n",
    "    from nbdev.imports import IN_NOTEBOOK\n",
    "except:\n",
    "    IN_NOTEBOOK = False\n",
    "\n",
    "if __name__ == \"__main__\" and not IN_NOTEBOOK:\n",
    "    args = _parse_args(sys.argv[1:])\n",
    "    _generate_filelist(args.input, args.format, args.output)"
   ]
  },
  {
   "cell_type": "code",
   "execution_count": null,
   "id": "3b1b940e",
   "metadata": {},
   "outputs": [
    {
     "data": {
      "text/plain": [
       "Namespace(input='foo/bar.txt', output='foo.zip')"
      ]
     },
     "execution_count": null,
     "metadata": {},
     "output_type": "execute_result"
    }
   ],
   "source": [
    "# hide\n",
    "_parse_args([\"-i\", \"foo/bar.txt\", \"--output\", \"foo.zip\"])"
   ]
  },
  {
   "cell_type": "code",
   "execution_count": null,
   "id": "ef6b9288",
   "metadata": {},
   "outputs": [],
   "source": []
  }
 ],
 "metadata": {
  "kernelspec": {
   "display_name": "Python 3",
   "language": "python",
   "name": "python3"
  }
 },
 "nbformat": 4,
 "nbformat_minor": 5
}
