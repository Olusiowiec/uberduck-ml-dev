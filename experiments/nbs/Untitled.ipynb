{
 "cells": [
  {
   "cell_type": "code",
   "execution_count": 17,
   "id": "960ddc89",
   "metadata": {},
   "outputs": [
    {
     "name": "stdout",
     "output_type": "stream",
     "text": [
      "Warm starting model from checkpoint '/mnt/disks/uberduck-experiments-v0/models/mellotron/vendor/mellotron_ljs.pt'\n"
     ]
    }
   ],
   "source": [
    "#checking 100 iter from cmd line train\n",
    "import os\n",
    "import torch\n",
    "os.chdir('/mnt/disks/uberduck-experiments-v0/mellotron')\n",
    "\n",
    "from hparams import create_hparams\n",
    "from model import Tacotron2\n",
    "from text import cmudict, text_to_sequence\n",
    "from train import warm_start_model\n",
    "from loss_function import Tacotron2Loss\n",
    "#import waveglow.glow\n",
    "#from waveglow.denoiser import Denoiser\n",
    "import waveglow\n",
    "import sys\n",
    "import IPython.display as ipd\n",
    "from train import prepare_dataloaders\n",
    "import time \n",
    "sys.path.append('waveglow/')\n",
    "def to_arpabet(text):\n",
    "    from g2p_en import G2p\n",
    "    g2p = G2p()\n",
    "    return \" \".join(\n",
    "        [\n",
    "            f\"{{ {s.strip()} }}\" if s.strip() not in \",.\" else s.strip()\n",
    "            for s in \" \".join(g2p(text)).split(\"  \")\n",
    "        ]\n",
    "    )\n",
    "\n",
    "def load_model(hparams):\n",
    "    model = Tacotron2(hparams).cuda()\n",
    "    if hparams.fp16_run:\n",
    "        model.decoder.attention_layer.score_mask_value = finfo('float16').min\n",
    "\n",
    "    return model\n",
    "\n",
    "\n",
    "#waveglow_path = '../../vendor_tools/waveglow/waveglow_256channels_universal_v4.pt'\n",
    "#waveglow_2 = torch.load(waveglow_path)['model'].cuda().eval()\n",
    "#denoiser = Denoiser(waveglow_2).cuda().eval()\n",
    "\n",
    "hparams = create_hparams(None)\n",
    "hparams.n_speakers = 3\n",
    "hparams.training_files = '/mnt/disks/uberduck-experiments-v0/uberduck-ml-dev/experiments/filelists/lj_train.txt'\n",
    "hparams.validation_files = '/mnt/disks/uberduck-experiments-v0/uberduck-ml-dev/experiments/filelists/lj_val.txt'\n",
    "hparams.batch_size = 16\n",
    "#hparams.checkpoint_path = '/mnt/disks/uberduck-experiments-v0/uberduck-ml-dev/experiments/outputs/lj_929_2/checkpoint_0'\n",
    "\n",
    "#hparams.checkpoint_path = '/mnt/disks/uberduck-experiments-v0/models/mellotron/vendor/mellotron_ljs.pt'\n",
    "#hparams.checkpoint_path = '/mnt/disks/uberduck-experiments-v0/uberduck-ml-dev/experiments/outputs/lj_929_2/checkpoint_0'\n",
    "#hparams.checkpoint_path = '/mnt/disks/uberduck-experiments-v0/uberduck-ml-dev/experiments/outputs/em_930/checkpoint_1500'\n",
    "#hparams.checkpoint_path = '/mnt/disks/uberduck-experiments-v0/uberduck-ml-dev/experiments/outputs/em_lt_930/checkpoint_3500'\n",
    "#hparams.checkpoint_path = '/mnt/disks/uberduck-experiments-v0/uberduck-ml-dev/experiments/outputs/uber3_lj_930/checkpoint_3500'\n",
    "#hparams.checkpoint_path = '/mnt/disks/uberduck-experiments-v0/uberduck-ml-dev/experiments/outputs/uber3_lj_930/checkpoint_2500'\n",
    "#hparams.checkpoint_path = '/mnt/disks/uberduck-experiments-v0/uberduck-ml-dev/experiments/outputs/uber3_lt_1001/checkpoint_2500'\n",
    "#hparams.checkpoint_path = '/mnt/disks/uberduck-experiments-v0/uberduck-ml-dev/experiments/outputs/uber3_scratch_1001/checkpoint_1500'\n",
    "hparams.checkpoint_path = '/mnt/disks/uberduck-experiments-v0/models/mellotron/vendor/mellotron_ljs.pt'\n",
    "hparams.warm_start = True\n",
    "learning_rate = 1e-3#\n",
    "hparams.use_saved_learning_rate = True\n",
    "torch.manual_seed(hparams.seed)\n",
    "\n",
    "model = load_model(hparams)\n",
    "criterion = Tacotron2Loss()\n",
    "model = warm_start_model(hparams.checkpoint_path, model, hparams.ignore_layers)\n"
   ]
  },
  {
   "cell_type": "code",
   "execution_count": 36,
   "id": "7d4c3300",
   "metadata": {},
   "outputs": [
    {
     "data": {
      "text/plain": [
       "['speaker_embedding.weight']"
      ]
     },
     "execution_count": 36,
     "metadata": {},
     "output_type": "execute_result"
    }
   ],
   "source": [
    "ignore_layers"
   ]
  },
  {
   "cell_type": "code",
   "execution_count": 38,
   "id": "9197de7a",
   "metadata": {},
   "outputs": [],
   "source": [
    "model = Tacotron2(hparams).cuda()\n",
    "checkpoint = torch.load(hparams.checkpoint_path, map_location='cpu')\n",
    "model_dict = checkpoint['state_dict']\n",
    "ignore_layers = hparams.ignore_layers\n",
    "if \"state_dict\" in checkpoint.keys():\n",
    "    model_dict = checkpoint[\"state_dict\"]\n",
    "    if ignore_layers:\n",
    "        model_dict = {k: v for k, v in model_dict.items()\n",
    "                      if k not in ignore_layers}\n",
    "        dummy_dict = model.state_dict()\n",
    "        dummy_dict.update(model_dict)\n",
    "        model_dict = dummy_dict\n",
    "    model.load_state_dict(model_dict)\n"
   ]
  }
 ],
 "metadata": {
  "kernelspec": {
   "display_name": "Python [conda env:root] *",
   "language": "python",
   "name": "conda-root-py"
  },
  "language_info": {
   "codemirror_mode": {
    "name": "ipython",
    "version": 3
   },
   "file_extension": ".py",
   "mimetype": "text/x-python",
   "name": "python",
   "nbconvert_exporter": "python",
   "pygments_lexer": "ipython3",
   "version": "3.7.10"
  }
 },
 "nbformat": 4,
 "nbformat_minor": 5
}
